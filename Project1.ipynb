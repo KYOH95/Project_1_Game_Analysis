{
  "nbformat": 4,
  "nbformat_minor": 0,
  "metadata": {
    "colab": {
      "name": "Project1.ipynb",
      "provenance": [],
      "collapsed_sections": [],
      "toc_visible": true
    },
    "kernelspec": {
      "name": "python3",
      "display_name": "Python 3"
    },
    "language_info": {
      "name": "python"
    }
  },
  "cells": [
    {
      "cell_type": "markdown",
      "source": [
        "##데이터 불러오기"
      ],
      "metadata": {
        "id": "yRMN_ocCJ5Eb"
      }
    },
    {
      "cell_type": "code",
      "source": [
        "import pandas as pd\n",
        "import numpy as np\n",
        "import seaborn as sns\n",
        "\n",
        "df_origin = pd.read_csv(\"https://ds-lecture-data.s3.ap-northeast-2.amazonaws.com/datasets/vgames2.csv\")\n",
        "df = df_origin\n",
        "df.head()"
      ],
      "metadata": {
        "colab": {
          "base_uri": "https://localhost:8080/",
          "height": 206
        },
        "id": "68VhuWdm-e8y",
        "outputId": "bf0bd2eb-2546-40d7-8ab5-3dddb4d73ca0"
      },
      "execution_count": 522,
      "outputs": [
        {
          "output_type": "execute_result",
          "data": {
            "text/plain": [
              "   Unnamed: 0                                            Name Platform  \\\n",
              "0           1                    Candace Kane's Candy Factory       DS   \n",
              "1           2                                  The Munchables      Wii   \n",
              "2           3  Otome wa Oanesama Boku ni Koi Shiteru Portable      PSP   \n",
              "3           4                Deal or No Deal: Special Edition       DS   \n",
              "4           5       Ben 10 Ultimate Alien: Cosmic Destruction      PS3   \n",
              "\n",
              "     Year      Genre           Publisher NA_Sales EU_Sales JP_Sales  \\\n",
              "0  2008.0     Action           Destineer     0.04        0        0   \n",
              "1  2009.0     Action  Namco Bandai Games     0.17        0        0   \n",
              "2  2010.0  Adventure           Alchemist        0        0     0.02   \n",
              "3  2010.0       Misc           Zoo Games     0.04        0        0   \n",
              "4  2010.0   Platform         D3Publisher     0.12     0.09        0   \n",
              "\n",
              "  Other_Sales  \n",
              "0           0  \n",
              "1        0.01  \n",
              "2           0  \n",
              "3           0  \n",
              "4        0.04  "
            ],
            "text/html": [
              "\n",
              "  <div id=\"df-9a48c7fa-8102-40b9-a89d-01474694eb08\">\n",
              "    <div class=\"colab-df-container\">\n",
              "      <div>\n",
              "<style scoped>\n",
              "    .dataframe tbody tr th:only-of-type {\n",
              "        vertical-align: middle;\n",
              "    }\n",
              "\n",
              "    .dataframe tbody tr th {\n",
              "        vertical-align: top;\n",
              "    }\n",
              "\n",
              "    .dataframe thead th {\n",
              "        text-align: right;\n",
              "    }\n",
              "</style>\n",
              "<table border=\"1\" class=\"dataframe\">\n",
              "  <thead>\n",
              "    <tr style=\"text-align: right;\">\n",
              "      <th></th>\n",
              "      <th>Unnamed: 0</th>\n",
              "      <th>Name</th>\n",
              "      <th>Platform</th>\n",
              "      <th>Year</th>\n",
              "      <th>Genre</th>\n",
              "      <th>Publisher</th>\n",
              "      <th>NA_Sales</th>\n",
              "      <th>EU_Sales</th>\n",
              "      <th>JP_Sales</th>\n",
              "      <th>Other_Sales</th>\n",
              "    </tr>\n",
              "  </thead>\n",
              "  <tbody>\n",
              "    <tr>\n",
              "      <th>0</th>\n",
              "      <td>1</td>\n",
              "      <td>Candace Kane's Candy Factory</td>\n",
              "      <td>DS</td>\n",
              "      <td>2008.0</td>\n",
              "      <td>Action</td>\n",
              "      <td>Destineer</td>\n",
              "      <td>0.04</td>\n",
              "      <td>0</td>\n",
              "      <td>0</td>\n",
              "      <td>0</td>\n",
              "    </tr>\n",
              "    <tr>\n",
              "      <th>1</th>\n",
              "      <td>2</td>\n",
              "      <td>The Munchables</td>\n",
              "      <td>Wii</td>\n",
              "      <td>2009.0</td>\n",
              "      <td>Action</td>\n",
              "      <td>Namco Bandai Games</td>\n",
              "      <td>0.17</td>\n",
              "      <td>0</td>\n",
              "      <td>0</td>\n",
              "      <td>0.01</td>\n",
              "    </tr>\n",
              "    <tr>\n",
              "      <th>2</th>\n",
              "      <td>3</td>\n",
              "      <td>Otome wa Oanesama Boku ni Koi Shiteru Portable</td>\n",
              "      <td>PSP</td>\n",
              "      <td>2010.0</td>\n",
              "      <td>Adventure</td>\n",
              "      <td>Alchemist</td>\n",
              "      <td>0</td>\n",
              "      <td>0</td>\n",
              "      <td>0.02</td>\n",
              "      <td>0</td>\n",
              "    </tr>\n",
              "    <tr>\n",
              "      <th>3</th>\n",
              "      <td>4</td>\n",
              "      <td>Deal or No Deal: Special Edition</td>\n",
              "      <td>DS</td>\n",
              "      <td>2010.0</td>\n",
              "      <td>Misc</td>\n",
              "      <td>Zoo Games</td>\n",
              "      <td>0.04</td>\n",
              "      <td>0</td>\n",
              "      <td>0</td>\n",
              "      <td>0</td>\n",
              "    </tr>\n",
              "    <tr>\n",
              "      <th>4</th>\n",
              "      <td>5</td>\n",
              "      <td>Ben 10 Ultimate Alien: Cosmic Destruction</td>\n",
              "      <td>PS3</td>\n",
              "      <td>2010.0</td>\n",
              "      <td>Platform</td>\n",
              "      <td>D3Publisher</td>\n",
              "      <td>0.12</td>\n",
              "      <td>0.09</td>\n",
              "      <td>0</td>\n",
              "      <td>0.04</td>\n",
              "    </tr>\n",
              "  </tbody>\n",
              "</table>\n",
              "</div>\n",
              "      <button class=\"colab-df-convert\" onclick=\"convertToInteractive('df-9a48c7fa-8102-40b9-a89d-01474694eb08')\"\n",
              "              title=\"Convert this dataframe to an interactive table.\"\n",
              "              style=\"display:none;\">\n",
              "        \n",
              "  <svg xmlns=\"http://www.w3.org/2000/svg\" height=\"24px\"viewBox=\"0 0 24 24\"\n",
              "       width=\"24px\">\n",
              "    <path d=\"M0 0h24v24H0V0z\" fill=\"none\"/>\n",
              "    <path d=\"M18.56 5.44l.94 2.06.94-2.06 2.06-.94-2.06-.94-.94-2.06-.94 2.06-2.06.94zm-11 1L8.5 8.5l.94-2.06 2.06-.94-2.06-.94L8.5 2.5l-.94 2.06-2.06.94zm10 10l.94 2.06.94-2.06 2.06-.94-2.06-.94-.94-2.06-.94 2.06-2.06.94z\"/><path d=\"M17.41 7.96l-1.37-1.37c-.4-.4-.92-.59-1.43-.59-.52 0-1.04.2-1.43.59L10.3 9.45l-7.72 7.72c-.78.78-.78 2.05 0 2.83L4 21.41c.39.39.9.59 1.41.59.51 0 1.02-.2 1.41-.59l7.78-7.78 2.81-2.81c.8-.78.8-2.07 0-2.86zM5.41 20L4 18.59l7.72-7.72 1.47 1.35L5.41 20z\"/>\n",
              "  </svg>\n",
              "      </button>\n",
              "      \n",
              "  <style>\n",
              "    .colab-df-container {\n",
              "      display:flex;\n",
              "      flex-wrap:wrap;\n",
              "      gap: 12px;\n",
              "    }\n",
              "\n",
              "    .colab-df-convert {\n",
              "      background-color: #E8F0FE;\n",
              "      border: none;\n",
              "      border-radius: 50%;\n",
              "      cursor: pointer;\n",
              "      display: none;\n",
              "      fill: #1967D2;\n",
              "      height: 32px;\n",
              "      padding: 0 0 0 0;\n",
              "      width: 32px;\n",
              "    }\n",
              "\n",
              "    .colab-df-convert:hover {\n",
              "      background-color: #E2EBFA;\n",
              "      box-shadow: 0px 1px 2px rgba(60, 64, 67, 0.3), 0px 1px 3px 1px rgba(60, 64, 67, 0.15);\n",
              "      fill: #174EA6;\n",
              "    }\n",
              "\n",
              "    [theme=dark] .colab-df-convert {\n",
              "      background-color: #3B4455;\n",
              "      fill: #D2E3FC;\n",
              "    }\n",
              "\n",
              "    [theme=dark] .colab-df-convert:hover {\n",
              "      background-color: #434B5C;\n",
              "      box-shadow: 0px 1px 3px 1px rgba(0, 0, 0, 0.15);\n",
              "      filter: drop-shadow(0px 1px 2px rgba(0, 0, 0, 0.3));\n",
              "      fill: #FFFFFF;\n",
              "    }\n",
              "  </style>\n",
              "\n",
              "      <script>\n",
              "        const buttonEl =\n",
              "          document.querySelector('#df-9a48c7fa-8102-40b9-a89d-01474694eb08 button.colab-df-convert');\n",
              "        buttonEl.style.display =\n",
              "          google.colab.kernel.accessAllowed ? 'block' : 'none';\n",
              "\n",
              "        async function convertToInteractive(key) {\n",
              "          const element = document.querySelector('#df-9a48c7fa-8102-40b9-a89d-01474694eb08');\n",
              "          const dataTable =\n",
              "            await google.colab.kernel.invokeFunction('convertToInteractive',\n",
              "                                                     [key], {});\n",
              "          if (!dataTable) return;\n",
              "\n",
              "          const docLinkHtml = 'Like what you see? Visit the ' +\n",
              "            '<a target=\"_blank\" href=https://colab.research.google.com/notebooks/data_table.ipynb>data table notebook</a>'\n",
              "            + ' to learn more about interactive tables.';\n",
              "          element.innerHTML = '';\n",
              "          dataTable['output_type'] = 'display_data';\n",
              "          await google.colab.output.renderOutput(dataTable, element);\n",
              "          const docLink = document.createElement('div');\n",
              "          docLink.innerHTML = docLinkHtml;\n",
              "          element.appendChild(docLink);\n",
              "        }\n",
              "      </script>\n",
              "    </div>\n",
              "  </div>\n",
              "  "
            ]
          },
          "metadata": {},
          "execution_count": 522
        }
      ]
    },
    {
      "cell_type": "code",
      "source": [
        "import matplotlib.pyplot as plt\n",
        "import pandas as pd\n",
        "import warnings\n",
        "import matplotlib as mpl\n",
        "\n",
        "# 폰트 변환\n",
        "# Windows\n",
        "# mpl.rc(\"font\", family='Malgun Gothic')\n",
        "\n",
        "# MacOS\n",
        "mpl.rc(\"font\", family='AppleGothic')\n",
        "\n",
        "# 마이너스 사인 수정\n",
        "mpl.rc('axes', unicode_minus=False)\n",
        "\n",
        "warnings.filterwarnings(\"ignore\")\n",
        "%matplotlib inline\n",
        "\n",
        "# 첫번째 방법\n",
        "%config InlineBackend.figure_format='retina'\n",
        "\n",
        "# 두번째 방법\n",
        "# from IPython.display import set_matplotlib_formats\n",
        "# set_matplotlib_formats('retina')\n",
        "\n",
        "# 둘 중 편한걸로 사용"
      ],
      "metadata": {
        "id": "xWZxFSC1EbJh"
      },
      "execution_count": 523,
      "outputs": []
    },
    {
      "cell_type": "markdown",
      "source": [
        "## EDA"
      ],
      "metadata": {
        "id": "Qhdxf47HgtRX"
      }
    },
    {
      "cell_type": "markdown",
      "source": [
        "#### 데이터 타입 확인 및 변경"
      ],
      "metadata": {
        "id": "FIUutDIbg4rb"
      }
    },
    {
      "cell_type": "code",
      "source": [
        "#데이터 확인\n",
        "df.info()\n",
        "\n",
        "#sales 값 object에서 float으로 타입 변경\n",
        "df['NA_Sales'] = pd.to_numeric(df['NA_Sales'],errors = 'coerce') #coerce = 오류값 nan값으로 대체\n",
        "df['EU_Sales'] = pd.to_numeric(df['EU_Sales'],errors = 'coerce')\n",
        "df['JP_Sales'] = pd.to_numeric(df['JP_Sales'],errors = 'coerce')\n",
        "df['Other_Sales'] = pd.to_numeric(df['Other_Sales'],errors = 'coerce')\n",
        "\n",
        "#Total_sales 칼럼을 새로 만든다.\n",
        "df['Total_sales'] = df['NA_Sales'] + df['EU_Sales'] + df['JP_Sales'] + df['Other_Sales']"
      ],
      "metadata": {
        "colab": {
          "base_uri": "https://localhost:8080/"
        },
        "id": "3-5TzO0tINFZ",
        "outputId": "ec529726-c30a-4193-8029-97d8b1bd69be"
      },
      "execution_count": 524,
      "outputs": [
        {
          "output_type": "stream",
          "name": "stdout",
          "text": [
            "<class 'pandas.core.frame.DataFrame'>\n",
            "RangeIndex: 16598 entries, 0 to 16597\n",
            "Data columns (total 10 columns):\n",
            " #   Column       Non-Null Count  Dtype  \n",
            "---  ------       --------------  -----  \n",
            " 0   Unnamed: 0   16598 non-null  int64  \n",
            " 1   Name         16598 non-null  object \n",
            " 2   Platform     16598 non-null  object \n",
            " 3   Year         16327 non-null  float64\n",
            " 4   Genre        16548 non-null  object \n",
            " 5   Publisher    16540 non-null  object \n",
            " 6   NA_Sales     16598 non-null  object \n",
            " 7   EU_Sales     16598 non-null  object \n",
            " 8   JP_Sales     16598 non-null  object \n",
            " 9   Other_Sales  16598 non-null  object \n",
            "dtypes: float64(1), int64(1), object(8)\n",
            "memory usage: 1.3+ MB\n"
          ]
        }
      ]
    },
    {
      "cell_type": "code",
      "source": [
        "#Total_sales가 0인 행 확인\n",
        "condition = df[\"Total_sales\"]<=0\n",
        "# print(\"Total_sales가 0인 행\\n\",df[condition].count(),\"\\n\")\n",
        "print(\"Sales 0값 제거 전 데이터:\", df.shape)\n",
        "\n",
        "#Total Sales가 0인 데이터도 삭제\n",
        "df.drop(df.loc[df[\"Total_sales\"] == 0].index, inplace = True) \n",
        "print(\"Sales 0값 제거 후 데이터:\",df.shape,\"\\n\")\n",
        "\n",
        "#Year가 1900년도 이전의 값들 모두 제거\n",
        "print(\"Year 오류값 제거 전 데이터:\",df.shape)\n",
        "# df.drop(df.loc[df[\"Total_sales\"] == 0].index, inplace = True) \n",
        "df.drop(df[df[\"Year\"] < 1900].index, inplace=True)\n",
        "print(\"Year 오류값 제거 후 데이터:\",df.shape)"
      ],
      "metadata": {
        "id": "PC8PU2B6gnju",
        "outputId": "b27583ee-e6da-4375-8b76-fda6130faaec",
        "colab": {
          "base_uri": "https://localhost:8080/"
        }
      },
      "execution_count": 525,
      "outputs": [
        {
          "output_type": "stream",
          "name": "stdout",
          "text": [
            "Sales 0값 제거 전 데이터: (16598, 11)\n",
            "Sales 0값 제거 후 데이터: (16597, 11) \n",
            "\n",
            "Year 오류값 제거 전 데이터: (16597, 11)\n",
            "Year 오류값 제거 후 데이터: (16497, 11)\n"
          ]
        }
      ]
    },
    {
      "cell_type": "markdown",
      "source": [
        "#### 결측치 확인 및 제거"
      ],
      "metadata": {
        "id": "NziT8m5OhNHP"
      }
    },
    {
      "cell_type": "code",
      "source": [
        "#결측치 확인\n",
        "print(\"결측치:\\n\",df.isnull().sum(),\"\\n\") \n",
        "\n",
        "print(\"결측치 제거 전 데이터:\",df.shape)\n",
        "\n",
        "df = df.drop(df.columns[[0]], axis=1) #첫번째 열 제거\n",
        "df = df.dropna(axis = 0) #결측치가 포함된 모든 행 제거\n",
        "df = df.reset_index(level=None, drop=True, inplace=False, col_level=0, col_fill='') #인덱스 reset\n",
        "\n",
        "print(\"결측치 제거 후 데이터:\",df.shape)"
      ],
      "metadata": {
        "colab": {
          "base_uri": "https://localhost:8080/"
        },
        "id": "Osr7s7z3KKQF",
        "outputId": "f5308678-ae59-4bcd-b1df-71e5a6d53850"
      },
      "execution_count": 526,
      "outputs": [
        {
          "output_type": "stream",
          "name": "stdout",
          "text": [
            "결측치:\n",
            " Unnamed: 0       0\n",
            "Name             0\n",
            "Platform         0\n",
            "Year           271\n",
            "Genre           50\n",
            "Publisher       58\n",
            "NA_Sales       197\n",
            "EU_Sales       198\n",
            "JP_Sales       198\n",
            "Other_Sales    200\n",
            "Total_sales    779\n",
            "dtype: int64 \n",
            "\n",
            "결측치 제거 전 데이터: (16497, 11)\n",
            "결측치 제거 후 데이터: (15381, 10)\n"
          ]
        }
      ]
    },
    {
      "cell_type": "markdown",
      "source": [
        "#### 중복 데이터 값 확인 및 제거"
      ],
      "metadata": {
        "id": "VEB7_v85LUaK"
      }
    },
    {
      "cell_type": "code",
      "source": [
        "#duplicated 게임이름 검색하여 확인\n",
        "df.duplicated().sum()\n",
        "\n",
        "#모든 값이 동일한 데이터가 없기 때문에 제거 대상 없음"
      ],
      "metadata": {
        "colab": {
          "base_uri": "https://localhost:8080/"
        },
        "id": "IIhztEfJeIW_",
        "outputId": "df963a65-2d68-436a-fc35-5e9d410f902c"
      },
      "execution_count": 527,
      "outputs": [
        {
          "output_type": "execute_result",
          "data": {
            "text/plain": [
              "0"
            ]
          },
          "metadata": {},
          "execution_count": 527
        }
      ]
    },
    {
      "cell_type": "markdown",
      "source": [
        "##지역에 따라서 선호하는 게임 장르"
      ],
      "metadata": {
        "id": "SFjIwRcuI6v9"
      }
    },
    {
      "cell_type": "code",
      "source": [
        "#지역별 sales값 확인\n",
        "print(\"NA_Sales:\",df[df[\"NA_Sales\"] > 0].value_counts().sum())\n",
        "print(\"EU_Sales:\",df[df[\"EU_Sales\"] > 0].value_counts().sum())\n",
        "print(\"JP_Sales:\",df[df[\"JP_Sales\"] > 0].value_counts().sum())\n",
        "print(\"Other_Sales:\",df[df[\"Other_Sales\"] > 0].value_counts().sum(),\"\\n\")\n",
        "\n",
        "df_hist_area = df[[\"NA_Sales\",\"EU_Sales\",\"JP_Sales\",\"Other_Sales\"]].sum()\n",
        "print(df_hist_area)\n",
        "\n",
        "df_hist_area.plot.bar(color=[\"lightcoral\",\"lightgreen\",\"lightblue\",\"lightgray\"])\n",
        "plt.title('Country Sales',fontsize=14) ## 타이틀 출력\n",
        "plt.show()\n",
        "\n",
        "\n",
        "#지역별 국가가 선호하는 장르 순위(출고량 합산 값)\n",
        "df.groupby([\"Genre\"],axis=0, sort = True).sum().sort_values(by = [\"Total_sales\"],ascending = False)[[\"NA_Sales\",\"EU_Sales\",\"JP_Sales\",\"Other_Sales\"]].head(10)"
      ],
      "metadata": {
        "colab": {
          "base_uri": "https://localhost:8080/",
          "height": 884
        },
        "id": "BOmTrQdQJ3zN",
        "outputId": "a040c9ec-0e01-4554-fb82-35df0449c585"
      },
      "execution_count": 528,
      "outputs": [
        {
          "output_type": "stream",
          "name": "stdout",
          "text": [
            "NA_Sales: 11204\n",
            "EU_Sales: 10083\n",
            "JP_Sales: 5725\n",
            "Other_Sales: 9424 \n",
            "\n",
            "NA_Sales       4055.22\n",
            "EU_Sales       2251.70\n",
            "JP_Sales       1192.14\n",
            "Other_Sales     743.86\n",
            "dtype: float64\n"
          ]
        },
        {
          "output_type": "display_data",
          "data": {
            "text/plain": [
              "<Figure size 432x288 with 1 Axes>"
            ],
            "image/png": "[encoded data removed]"
          },
          "metadata": {
            "image/png": {
              "width": 381,
              "height": 316
            },
            "needs_background": "light"
          }
        },
        {
          "output_type": "execute_result",
          "data": {
            "text/plain": [
              "              NA_Sales  EU_Sales  JP_Sales  Other_Sales\n",
              "Genre                                                  \n",
              "Action          801.89    486.60    149.85       176.14\n",
              "Sports          633.87    349.85    126.65       126.13\n",
              "Shooter         544.63    293.38     36.53        96.68\n",
              "Role-Playing    283.86    160.10    314.15        50.86\n",
              "Platform        410.96    184.11    121.88        47.88\n",
              "Misc            380.36    200.14     99.47        69.97\n",
              "Racing          334.14    222.66     50.60        73.48\n",
              "Fighting        210.51     94.18     82.58        34.33\n",
              "Simulation      173.64    106.97     61.51        29.49\n",
              "Puzzle          118.40     49.95     56.16        12.13"
            ],
            "text/html": [
              "\n",
              "  <div id=\"df-ac01a1aa-585b-4d38-9a9d-07585466661c\">\n",
              "    <div class=\"colab-df-container\">\n",
              "      <div>\n",
              "<style scoped>\n",
              "    .dataframe tbody tr th:only-of-type {\n",
              "        vertical-align: middle;\n",
              "    }\n",
              "\n",
              "    .dataframe tbody tr th {\n",
              "        vertical-align: top;\n",
              "    }\n",
              "\n",
              "    .dataframe thead th {\n",
              "        text-align: right;\n",
              "    }\n",
              "</style>\n",
              "<table border=\"1\" class=\"dataframe\">\n",
              "  <thead>\n",
              "    <tr style=\"text-align: right;\">\n",
              "      <th></th>\n",
              "      <th>NA_Sales</th>\n",
              "      <th>EU_Sales</th>\n",
              "      <th>JP_Sales</th>\n",
              "      <th>Other_Sales</th>\n",
              "    </tr>\n",
              "    <tr>\n",
              "      <th>Genre</th>\n",
              "      <th></th>\n",
              "      <th></th>\n",
              "      <th></th>\n",
              "      <th></th>\n",
              "    </tr>\n",
              "  </thead>\n",
              "  <tbody>\n",
              "    <tr>\n",
              "      <th>Action</th>\n",
              "      <td>801.89</td>\n",
              "      <td>486.60</td>\n",
              "      <td>149.85</td>\n",
              "      <td>176.14</td>\n",
              "    </tr>\n",
              "    <tr>\n",
              "      <th>Sports</th>\n",
              "      <td>633.87</td>\n",
              "      <td>349.85</td>\n",
              "      <td>126.65</td>\n",
              "      <td>126.13</td>\n",
              "    </tr>\n",
              "    <tr>\n",
              "      <th>Shooter</th>\n",
              "      <td>544.63</td>\n",
              "      <td>293.38</td>\n",
              "      <td>36.53</td>\n",
              "      <td>96.68</td>\n",
              "    </tr>\n",
              "    <tr>\n",
              "      <th>Role-Playing</th>\n",
              "      <td>283.86</td>\n",
              "      <td>160.10</td>\n",
              "      <td>314.15</td>\n",
              "      <td>50.86</td>\n",
              "    </tr>\n",
              "    <tr>\n",
              "      <th>Platform</th>\n",
              "      <td>410.96</td>\n",
              "      <td>184.11</td>\n",
              "      <td>121.88</td>\n",
              "      <td>47.88</td>\n",
              "    </tr>\n",
              "    <tr>\n",
              "      <th>Misc</th>\n",
              "      <td>380.36</td>\n",
              "      <td>200.14</td>\n",
              "      <td>99.47</td>\n",
              "      <td>69.97</td>\n",
              "    </tr>\n",
              "    <tr>\n",
              "      <th>Racing</th>\n",
              "      <td>334.14</td>\n",
              "      <td>222.66</td>\n",
              "      <td>50.60</td>\n",
              "      <td>73.48</td>\n",
              "    </tr>\n",
              "    <tr>\n",
              "      <th>Fighting</th>\n",
              "      <td>210.51</td>\n",
              "      <td>94.18</td>\n",
              "      <td>82.58</td>\n",
              "      <td>34.33</td>\n",
              "    </tr>\n",
              "    <tr>\n",
              "      <th>Simulation</th>\n",
              "      <td>173.64</td>\n",
              "      <td>106.97</td>\n",
              "      <td>61.51</td>\n",
              "      <td>29.49</td>\n",
              "    </tr>\n",
              "    <tr>\n",
              "      <th>Puzzle</th>\n",
              "      <td>118.40</td>\n",
              "      <td>49.95</td>\n",
              "      <td>56.16</td>\n",
              "      <td>12.13</td>\n",
              "    </tr>\n",
              "  </tbody>\n",
              "</table>\n",
              "</div>\n",
              "      <button class=\"colab-df-convert\" onclick=\"convertToInteractive('df-ac01a1aa-585b-4d38-9a9d-07585466661c')\"\n",
              "              title=\"Convert this dataframe to an interactive table.\"\n",
              "              style=\"display:none;\">\n",
              "        \n",
              "  <svg xmlns=\"http://www.w3.org/2000/svg\" height=\"24px\"viewBox=\"0 0 24 24\"\n",
              "       width=\"24px\">\n",
              "    <path d=\"M0 0h24v24H0V0z\" fill=\"none\"/>\n",
              "    <path d=\"M18.56 5.44l.94 2.06.94-2.06 2.06-.94-2.06-.94-.94-2.06-.94 2.06-2.06.94zm-11 1L8.5 8.5l.94-2.06 2.06-.94-2.06-.94L8.5 2.5l-.94 2.06-2.06.94zm10 10l.94 2.06.94-2.06 2.06-.94-2.06-.94-.94-2.06-.94 2.06-2.06.94z\"/><path d=\"M17.41 7.96l-1.37-1.37c-.4-.4-.92-.59-1.43-.59-.52 0-1.04.2-1.43.59L10.3 9.45l-7.72 7.72c-.78.78-.78 2.05 0 2.83L4 21.41c.39.39.9.59 1.41.59.51 0 1.02-.2 1.41-.59l7.78-7.78 2.81-2.81c.8-.78.8-2.07 0-2.86zM5.41 20L4 18.59l7.72-7.72 1.47 1.35L5.41 20z\"/>\n",
              "  </svg>\n",
              "      </button>\n",
              "      \n",
              "  <style>\n",
              "    .colab-df-container {\n",
              "      display:flex;\n",
              "      flex-wrap:wrap;\n",
              "      gap: 12px;\n",
              "    }\n",
              "\n",
              "    .colab-df-convert {\n",
              "      background-color: #E8F0FE;\n",
              "      border: none;\n",
              "      border-radius: 50%;\n",
              "      cursor: pointer;\n",
              "      display: none;\n",
              "      fill: #1967D2;\n",
              "      height: 32px;\n",
              "      padding: 0 0 0 0;\n",
              "      width: 32px;\n",
              "    }\n",
              "\n",
              "    .colab-df-convert:hover {\n",
              "      background-color: #E2EBFA;\n",
              "      box-shadow: 0px 1px 2px rgba(60, 64, 67, 0.3), 0px 1px 3px 1px rgba(60, 64, 67, 0.15);\n",
              "      fill: #174EA6;\n",
              "    }\n",
              "\n",
              "    [theme=dark] .colab-df-convert {\n",
              "      background-color: #3B4455;\n",
              "      fill: #D2E3FC;\n",
              "    }\n",
              "\n",
              "    [theme=dark] .colab-df-convert:hover {\n",
              "      background-color: #434B5C;\n",
              "      box-shadow: 0px 1px 3px 1px rgba(0, 0, 0, 0.15);\n",
              "      filter: drop-shadow(0px 1px 2px rgba(0, 0, 0, 0.3));\n",
              "      fill: #FFFFFF;\n",
              "    }\n",
              "  </style>\n",
              "\n",
              "      <script>\n",
              "        const buttonEl =\n",
              "          document.querySelector('#df-ac01a1aa-585b-4d38-9a9d-07585466661c button.colab-df-convert');\n",
              "        buttonEl.style.display =\n",
              "          google.colab.kernel.accessAllowed ? 'block' : 'none';\n",
              "\n",
              "        async function convertToInteractive(key) {\n",
              "          const element = document.querySelector('#df-ac01a1aa-585b-4d38-9a9d-07585466661c');\n",
              "          const dataTable =\n",
              "            await google.colab.kernel.invokeFunction('convertToInteractive',\n",
              "                                                     [key], {});\n",
              "          if (!dataTable) return;\n",
              "\n",
              "          const docLinkHtml = 'Like what you see? Visit the ' +\n",
              "            '<a target=\"_blank\" href=https://colab.research.google.com/notebooks/data_table.ipynb>data table notebook</a>'\n",
              "            + ' to learn more about interactive tables.';\n",
              "          element.innerHTML = '';\n",
              "          dataTable['output_type'] = 'display_data';\n",
              "          await google.colab.output.renderOutput(dataTable, element);\n",
              "          const docLink = document.createElement('div');\n",
              "          docLink.innerHTML = docLinkHtml;\n",
              "          element.appendChild(docLink);\n",
              "        }\n",
              "      </script>\n",
              "    </div>\n",
              "  </div>\n",
              "  "
            ]
          },
          "metadata": {},
          "execution_count": 528
        }
      ]
    },
    {
      "cell_type": "code",
      "source": [
        "#미국이 선호하는 장르 순위(출고량 합산 값)\n",
        "df_NA = df.groupby([\"Genre\"],axis=0, sort = True).sum()[\"NA_Sales\"].sort_values(ascending = False).head(5)\n",
        "\n",
        "## 시각화\n",
        "tick_size = 13 ## 눈금 폰트 사이즈\n",
        "axis_label_size = 12 ## x축, y축 폰트 사이즈\n",
        " \n",
        "fig = plt.figure(figsize=(6,4)) ## Figure 생성 사이즈는 10 by 10\n",
        "ax = fig.add_subplot() ## Axes 추가\n",
        "# colors = sns.color_palette('hls',len(df_US)) ## 색상 지정\n",
        " \n",
        "xtick_label_position = list(range(len(df_NA))) ## x축 눈금 라벨이 표시될 x좌표\n",
        " \n",
        "plt.yticks(fontsize=tick_size)\n",
        "plt.xticks(xtick_label_position, df_NA.index, fontsize=tick_size) ## x축 눈금 라벨 출력\n",
        " \n",
        "bars = plt.bar(xtick_label_position, df_NA, color=[\"darkred\",\"firebrick\",\"indianred\",\"salmon\",\"mistyrose\"], alpha=0.75, linewidth=3) ## 바차트 출력\n",
        " \n",
        "for i, b in enumerate(bars):\n",
        "    ax.text(b.get_x()+b.get_width()*(1/2),b.get_height()+0.1, \\\n",
        "            round(df_NA[i],1),ha='center',fontsize=11)\n",
        "    \n",
        "plt.title('NA Top 5 Genre',fontsize=14) ## 타이틀 출력\n",
        "plt.xlabel('Genre Types',fontsize=axis_label_size) ## x축 라벨 출력\n",
        "plt.ylabel('NA Sales',fontsize=axis_label_size) ## y축 라벨 출력\n",
        "plt.show()"
      ],
      "metadata": {
        "id": "S749gwJK7lDd",
        "outputId": "b9c0ab0e-b8b6-40e8-cd91-107f0d03239c",
        "colab": {
          "base_uri": "https://localhost:8080/",
          "height": 301
        }
      },
      "execution_count": 529,
      "outputs": [
        {
          "output_type": "display_data",
          "data": {
            "text/plain": [
              "<Figure size 432x288 with 1 Axes>"
            ],
            "image/png": "[encoded data removed]"
          },
          "metadata": {
            "image/png": {
              "width": 397,
              "height": 284
            },
            "needs_background": "light"
          }
        }
      ]
    },
    {
      "cell_type": "code",
      "source": [
        "#유럽연합이 선호하는 장르 순위\n",
        "df_EU = df.groupby([\"Genre\"],axis=0, sort = True).sum()[\"EU_Sales\"].sort_values(ascending = False).head(5)\n",
        "\n",
        "## 시각화\n",
        "tick_size = 13 ## 눈금 폰트 사이즈\n",
        "axis_label_size = 12 ## x축, y축 폰트 사이즈\n",
        " \n",
        "fig = plt.figure(figsize=(6,4)) ## Figure 생성 사이즈는 10 by 10\n",
        "ax = fig.add_subplot() ## Axes 추가\n",
        "# colors = sns.color_palette('hls',len(df_EU)) ## 색상 지정\n",
        " \n",
        "xtick_label_position = list(range(len(df_EU))) ## x축 눈금 라벨이 표시될 x좌표\n",
        " \n",
        "plt.yticks(fontsize=tick_size)\n",
        "plt.xticks(xtick_label_position, df_EU.index, fontsize=tick_size) ## x축 눈금 라벨 출력\n",
        " \n",
        "bars = plt.bar(xtick_label_position, df_EU, color=[\"green\",\"seagreen\",\"mediumseagreen\",\"lightgreen\",\"honeydew\"], alpha=0.75, linewidth=3) ## 바차트 출력\n",
        " \n",
        "for i, b in enumerate(bars):\n",
        "    ax.text(b.get_x()+b.get_width()*(1/2),b.get_height()+0.1, \\\n",
        "            round(df_EU[i],1),ha='center',fontsize=11)\n",
        "    \n",
        "plt.title('EU Top 5 Genre',fontsize=14) ## 타이틀 출력\n",
        "plt.xlabel('Genre Types',fontsize=axis_label_size) ## x축 라벨 출력\n",
        "plt.ylabel('EU Sales',fontsize=axis_label_size) ## y축 라벨 출력\n",
        "plt.show()"
      ],
      "metadata": {
        "id": "MfmmYgiwImTZ",
        "outputId": "8614672b-3f5f-4e05-c7c3-31fffb7f8b61",
        "colab": {
          "base_uri": "https://localhost:8080/",
          "height": 301
        }
      },
      "execution_count": 530,
      "outputs": [
        {
          "output_type": "display_data",
          "data": {
            "text/plain": [
              "<Figure size 432x288 with 1 Axes>"
            ],
            "image/png": "[encoded data removed]"
          },
          "metadata": {
            "image/png": {
              "width": 397,
              "height": 284
            },
            "needs_background": "light"
          }
        }
      ]
    },
    {
      "cell_type": "code",
      "source": [
        "#일본이 선호하는 장르 순위\n",
        "df_JP = df.groupby([\"Genre\"],axis=0, sort = True).sum()[\"JP_Sales\"].sort_values(ascending = False).head(5)\n",
        "\n",
        "## 시각화\n",
        "tick_size = 13 ## 눈금 폰트 사이즈\n",
        "axis_label_size = 12 ## x축, y축 폰트 사이즈\n",
        " \n",
        "fig = plt.figure(figsize=(6,4)) ## Figure 생성 사이즈는 10 by 10\n",
        "ax = fig.add_subplot() ## Axes 추가\n",
        "# colors = sns.color_palette('hls',len(df_EU)) ## 색상 지정\n",
        " \n",
        "xtick_label_position = list(range(len(df_JP))) ## x축 눈금 라벨이 표시될 x좌표\n",
        " \n",
        "plt.yticks(fontsize=tick_size)\n",
        "plt.xticks(xtick_label_position, df_JP.index, fontsize=tick_size) ## x축 눈금 라벨 출력\n",
        " \n",
        "bars = plt.bar(xtick_label_position, df_JP, color=[\"midnightblue\",\"royalblue\",\"cornflowerblue\",\"lightskyblue\",\"lightblue\"], alpha=0.75, linewidth=3) ## 바차트 출력\n",
        " \n",
        "for i, b in enumerate(bars):\n",
        "    ax.text(b.get_x()+b.get_width()*(1/2),b.get_height()+0.1, \\\n",
        "            round(df_JP[i],1),ha='center',fontsize=11)\n",
        "    \n",
        "plt.title('Japan Top 5 Genre',fontsize=14) ## 타이틀 출력\n",
        "plt.xlabel('Genre Types',fontsize=axis_label_size) ## x축 라벨 출력\n",
        "plt.ylabel('Japan Sales',fontsize=axis_label_size) ## y축 라벨 출력\n",
        "plt.show()"
      ],
      "metadata": {
        "id": "QEQzhEEpZBz_",
        "outputId": "7e7c063f-efda-4768-fb60-ddc8463d9762",
        "colab": {
          "base_uri": "https://localhost:8080/",
          "height": 301
        }
      },
      "execution_count": 531,
      "outputs": [
        {
          "output_type": "display_data",
          "data": {
            "text/plain": [
              "<Figure size 432x288 with 1 Axes>"
            ],
            "image/png": "[encoded data removed]"
          },
          "metadata": {
            "image/png": {
              "width": 397,
              "height": 284
            },
            "needs_background": "light"
          }
        }
      ]
    },
    {
      "cell_type": "code",
      "source": [
        "#유럽연합이 선호하는 장르 순위\n",
        "\n",
        "df_Others = df.groupby([\"Genre\"],axis=0, sort = True).sum()[\"Other_Sales\"].sort_values(ascending = False).head(5)\n",
        "\n",
        "## 시각화\n",
        "tick_size = 13 ## 눈금 폰트 사이즈\n",
        "axis_label_size = 12 ## x축, y축 폰트 사이즈\n",
        " \n",
        "fig = plt.figure(figsize=(6,4)) ## Figure 생성 사이즈는 10 by 10\n",
        "ax = fig.add_subplot() ## Axes 추가\n",
        "# colors = sns.color_palette('hls',len(df_EU)) ## 색상 지정\n",
        " \n",
        "xtick_label_position = list(range(len(df_Others))) ## x축 눈금 라벨이 표시될 x좌표\n",
        " \n",
        "plt.yticks(fontsize=tick_size)\n",
        "plt.xticks(xtick_label_position, df_Others.index, fontsize=tick_size) ## x축 눈금 라벨 출력\n",
        " \n",
        "bars = plt.bar(xtick_label_position, df_Others, color=[\"black\",\"dimgray\",\"darkgray\",\"lightgray\",\"whitesmoke\"], alpha=0.75, linewidth=3) ## 바차트 출력\n",
        " \n",
        "for i, b in enumerate(bars):\n",
        "    ax.text(b.get_x()+b.get_width()*(1/2),b.get_height()+0.1, \\\n",
        "            round(df_Others[i],1),ha='center',fontsize=11)\n",
        "    \n",
        "plt.title('Other Countries Top 5 Genre',fontsize=14) ## 타이틀 출력\n",
        "plt.xlabel('Genre Types',fontsize=axis_label_size) ## x축 라벨 출력\n",
        "plt.ylabel('Other Countries Sales',fontsize=axis_label_size) ## y축 라벨 출력\n",
        "plt.show()"
      ],
      "metadata": {
        "id": "toZG3j4UBvRf",
        "outputId": "c6f5f237-c506-4085-f989-ebc487b86a16",
        "colab": {
          "base_uri": "https://localhost:8080/",
          "height": 301
        }
      },
      "execution_count": 532,
      "outputs": [
        {
          "output_type": "display_data",
          "data": {
            "text/plain": [
              "<Figure size 432x288 with 1 Axes>"
            ],
            "image/png": "[encoded data removed]"
          },
          "metadata": {
            "image/png": {
              "width": 397,
              "height": 284
            },
            "needs_background": "light"
          }
        }
      ]
    },
    {
      "cell_type": "code",
      "source": [
        "#유럽연합이 선호하는 장르 순위\n",
        "\n",
        "df_Total = df.groupby([\"Genre\"],axis=0, sort = True).sum()[\"Total_sales\"].sort_values(ascending = False).head(5)\n",
        "\n",
        "## 시각화\n",
        "tick_size = 13 ## 눈금 폰트 사이즈\n",
        "axis_label_size = 10 ## x축, y축 폰트 사이즈\n",
        " \n",
        "fig = plt.figure(figsize=(6,4)) ## Figure 생성 사이즈는 10 by 10\n",
        "ax = fig.add_subplot() ## Axes 추가\n",
        "# colors = sns.color_palette('hls',len(df_EU)) ## 색상 지정\n",
        " \n",
        "xtick_label_position = list(range(len(df_Total))) ## x축 눈금 라벨이 표시될 x좌표\n",
        " \n",
        "plt.yticks(fontsize=tick_size)\n",
        "plt.xticks(xtick_label_position, df_Total.index, fontsize=tick_size) ## x축 눈금 라벨 출력\n",
        " \n",
        "bars = plt.bar(xtick_label_position, df_Total, color=[\"rebeccapurple\",\"mediumpurple\",\"mediumorchid\",\"plum\",\"thistle\"], alpha=0.75, linewidth=3) ## 바차트 출력\n",
        " \n",
        "for i, b in enumerate(bars):\n",
        "    ax.text(b.get_x()+b.get_width()*(1/2),b.get_height()+0.1, \\\n",
        "            round(df_Total[i],1),ha='center',fontsize=11)\n",
        "    \n",
        "plt.title('Top 5 Genre',fontsize=14) ## 타이틀 출력\n",
        "plt.xlabel('Genre Types',fontsize=axis_label_size) ## x축 라벨 출력\n",
        "plt.ylabel('Country Sales',fontsize=axis_label_size) ## y축 라벨 출력\n",
        "plt.show()"
      ],
      "metadata": {
        "id": "q58SMm5zczIP",
        "outputId": "b25a4b5e-b417-48c6-b092-3f5c1612cdd8",
        "colab": {
          "base_uri": "https://localhost:8080/",
          "height": 299
        }
      },
      "execution_count": 533,
      "outputs": [
        {
          "output_type": "display_data",
          "data": {
            "text/plain": [
              "<Figure size 432x288 with 1 Axes>"
            ],
            "image/png": "[encoded data removed]"
          },
          "metadata": {
            "image/png": {
              "width": 402,
              "height": 282
            },
            "needs_background": "light"
          }
        }
      ]
    },
    {
      "cell_type": "markdown",
      "source": [
        "##연도별 게임의 트렌드"
      ],
      "metadata": {
        "id": "tGhUW86lI62y"
      }
    },
    {
      "cell_type": "code",
      "source": [
        "#Year 'int' 타입으로 변환\n",
        "df['Year'].astype('int64')\n",
        "\n",
        "#년도 별 출고량이 가장 높은 장르\n",
        "df_Year = pd.DataFrame(df.groupby(['Year','Genre'])[\"Total_sales\"].sum()).reset_index().sort_values(by=[\"Year\",\"Total_sales\"],ascending=[True,False])\n",
        "df_Year.head(10)"
      ],
      "metadata": {
        "id": "bJHMTbv0uuDX",
        "outputId": "7849635e-19e7-4343-f1f6-090c2f0625f4",
        "colab": {
          "base_uri": "https://localhost:8080/",
          "height": 363
        }
      },
      "execution_count": 560,
      "outputs": [
        {
          "output_type": "execute_result",
          "data": {
            "text/plain": [
              "      Year     Genre  Total_sales\n",
              "3   1980.0   Shooter         7.07\n",
              "2   1980.0      Misc         2.47\n",
              "1   1980.0  Fighting         0.77\n",
              "0   1980.0    Action         0.34\n",
              "4   1981.0    Action        12.82\n",
              "8   1981.0   Shooter        10.02\n",
              "5   1981.0  Platform         6.92\n",
              "6   1981.0    Puzzle         2.25\n",
              "10  1981.0    Sports         0.78\n",
              "7   1981.0    Racing         0.48"
            ],
            "text/html": [
              "\n",
              "  <div id=\"df-f53e74b6-af56-4fc8-8385-8fa5e9325cd2\">\n",
              "    <div class=\"colab-df-container\">\n",
              "      <div>\n",
              "<style scoped>\n",
              "    .dataframe tbody tr th:only-of-type {\n",
              "        vertical-align: middle;\n",
              "    }\n",
              "\n",
              "    .dataframe tbody tr th {\n",
              "        vertical-align: top;\n",
              "    }\n",
              "\n",
              "    .dataframe thead th {\n",
              "        text-align: right;\n",
              "    }\n",
              "</style>\n",
              "<table border=\"1\" class=\"dataframe\">\n",
              "  <thead>\n",
              "    <tr style=\"text-align: right;\">\n",
              "      <th></th>\n",
              "      <th>Year</th>\n",
              "      <th>Genre</th>\n",
              "      <th>Total_sales</th>\n",
              "    </tr>\n",
              "  </thead>\n",
              "  <tbody>\n",
              "    <tr>\n",
              "      <th>3</th>\n",
              "      <td>1980.0</td>\n",
              "      <td>Shooter</td>\n",
              "      <td>7.07</td>\n",
              "    </tr>\n",
              "    <tr>\n",
              "      <th>2</th>\n",
              "      <td>1980.0</td>\n",
              "      <td>Misc</td>\n",
              "      <td>2.47</td>\n",
              "    </tr>\n",
              "    <tr>\n",
              "      <th>1</th>\n",
              "      <td>1980.0</td>\n",
              "      <td>Fighting</td>\n",
              "      <td>0.77</td>\n",
              "    </tr>\n",
              "    <tr>\n",
              "      <th>0</th>\n",
              "      <td>1980.0</td>\n",
              "      <td>Action</td>\n",
              "      <td>0.34</td>\n",
              "    </tr>\n",
              "    <tr>\n",
              "      <th>4</th>\n",
              "      <td>1981.0</td>\n",
              "      <td>Action</td>\n",
              "      <td>12.82</td>\n",
              "    </tr>\n",
              "    <tr>\n",
              "      <th>8</th>\n",
              "      <td>1981.0</td>\n",
              "      <td>Shooter</td>\n",
              "      <td>10.02</td>\n",
              "    </tr>\n",
              "    <tr>\n",
              "      <th>5</th>\n",
              "      <td>1981.0</td>\n",
              "      <td>Platform</td>\n",
              "      <td>6.92</td>\n",
              "    </tr>\n",
              "    <tr>\n",
              "      <th>6</th>\n",
              "      <td>1981.0</td>\n",
              "      <td>Puzzle</td>\n",
              "      <td>2.25</td>\n",
              "    </tr>\n",
              "    <tr>\n",
              "      <th>10</th>\n",
              "      <td>1981.0</td>\n",
              "      <td>Sports</td>\n",
              "      <td>0.78</td>\n",
              "    </tr>\n",
              "    <tr>\n",
              "      <th>7</th>\n",
              "      <td>1981.0</td>\n",
              "      <td>Racing</td>\n",
              "      <td>0.48</td>\n",
              "    </tr>\n",
              "  </tbody>\n",
              "</table>\n",
              "</div>\n",
              "      <button class=\"colab-df-convert\" onclick=\"convertToInteractive('df-f53e74b6-af56-4fc8-8385-8fa5e9325cd2')\"\n",
              "              title=\"Convert this dataframe to an interactive table.\"\n",
              "              style=\"display:none;\">\n",
              "        \n",
              "  <svg xmlns=\"http://www.w3.org/2000/svg\" height=\"24px\"viewBox=\"0 0 24 24\"\n",
              "       width=\"24px\">\n",
              "    <path d=\"M0 0h24v24H0V0z\" fill=\"none\"/>\n",
              "    <path d=\"M18.56 5.44l.94 2.06.94-2.06 2.06-.94-2.06-.94-.94-2.06-.94 2.06-2.06.94zm-11 1L8.5 8.5l.94-2.06 2.06-.94-2.06-.94L8.5 2.5l-.94 2.06-2.06.94zm10 10l.94 2.06.94-2.06 2.06-.94-2.06-.94-.94-2.06-.94 2.06-2.06.94z\"/><path d=\"M17.41 7.96l-1.37-1.37c-.4-.4-.92-.59-1.43-.59-.52 0-1.04.2-1.43.59L10.3 9.45l-7.72 7.72c-.78.78-.78 2.05 0 2.83L4 21.41c.39.39.9.59 1.41.59.51 0 1.02-.2 1.41-.59l7.78-7.78 2.81-2.81c.8-.78.8-2.07 0-2.86zM5.41 20L4 18.59l7.72-7.72 1.47 1.35L5.41 20z\"/>\n",
              "  </svg>\n",
              "      </button>\n",
              "      \n",
              "  <style>\n",
              "    .colab-df-container {\n",
              "      display:flex;\n",
              "      flex-wrap:wrap;\n",
              "      gap: 12px;\n",
              "    }\n",
              "\n",
              "    .colab-df-convert {\n",
              "      background-color: #E8F0FE;\n",
              "      border: none;\n",
              "      border-radius: 50%;\n",
              "      cursor: pointer;\n",
              "      display: none;\n",
              "      fill: #1967D2;\n",
              "      height: 32px;\n",
              "      padding: 0 0 0 0;\n",
              "      width: 32px;\n",
              "    }\n",
              "\n",
              "    .colab-df-convert:hover {\n",
              "      background-color: #E2EBFA;\n",
              "      box-shadow: 0px 1px 2px rgba(60, 64, 67, 0.3), 0px 1px 3px 1px rgba(60, 64, 67, 0.15);\n",
              "      fill: #174EA6;\n",
              "    }\n",
              "\n",
              "    [theme=dark] .colab-df-convert {\n",
              "      background-color: #3B4455;\n",
              "      fill: #D2E3FC;\n",
              "    }\n",
              "\n",
              "    [theme=dark] .colab-df-convert:hover {\n",
              "      background-color: #434B5C;\n",
              "      box-shadow: 0px 1px 3px 1px rgba(0, 0, 0, 0.15);\n",
              "      filter: drop-shadow(0px 1px 2px rgba(0, 0, 0, 0.3));\n",
              "      fill: #FFFFFF;\n",
              "    }\n",
              "  </style>\n",
              "\n",
              "      <script>\n",
              "        const buttonEl =\n",
              "          document.querySelector('#df-f53e74b6-af56-4fc8-8385-8fa5e9325cd2 button.colab-df-convert');\n",
              "        buttonEl.style.display =\n",
              "          google.colab.kernel.accessAllowed ? 'block' : 'none';\n",
              "\n",
              "        async function convertToInteractive(key) {\n",
              "          const element = document.querySelector('#df-f53e74b6-af56-4fc8-8385-8fa5e9325cd2');\n",
              "          const dataTable =\n",
              "            await google.colab.kernel.invokeFunction('convertToInteractive',\n",
              "                                                     [key], {});\n",
              "          if (!dataTable) return;\n",
              "\n",
              "          const docLinkHtml = 'Like what you see? Visit the ' +\n",
              "            '<a target=\"_blank\" href=https://colab.research.google.com/notebooks/data_table.ipynb>data table notebook</a>'\n",
              "            + ' to learn more about interactive tables.';\n",
              "          element.innerHTML = '';\n",
              "          dataTable['output_type'] = 'display_data';\n",
              "          await google.colab.output.renderOutput(dataTable, element);\n",
              "          const docLink = document.createElement('div');\n",
              "          docLink.innerHTML = docLinkHtml;\n",
              "          element.appendChild(docLink);\n",
              "        }\n",
              "      </script>\n",
              "    </div>\n",
              "  </div>\n",
              "  "
            ]
          },
          "metadata": {},
          "execution_count": 560
        }
      ]
    },
    {
      "cell_type": "code",
      "source": [
        "# pd.DataFrame(df_Year.groupby([\"Year\"]))\n",
        "\n",
        "\n",
        "df_Year.groupby([\"Year\"])[\"Total_sales\"].nlargest(2).reset_index()\n",
        "# df_Year.drop(df_Year.loc[df_Year[\"Total_sales\"] != ].index, inplace = True) \n",
        "\n"
      ],
      "metadata": {
        "id": "bwH44SMn6Nn3",
        "outputId": "fd14c472-9c73-4d60-ef87-da8928e284e5",
        "colab": {
          "base_uri": "https://localhost:8080/",
          "height": 423
        }
      },
      "execution_count": 565,
      "outputs": [
        {
          "output_type": "execute_result",
          "data": {
            "text/plain": [
              "      Year  level_1  Total_sales\n",
              "0   1980.0        3         7.07\n",
              "1   1980.0        2         2.47\n",
              "2   1981.0        4        12.82\n",
              "3   1981.0        8        10.02\n",
              "4   1982.0       14        10.04\n",
              "..     ...      ...          ...\n",
              "71  2015.0      369        65.78\n",
              "72  2016.0      373        19.62\n",
              "73  2016.0      380        13.68\n",
              "74  2017.0      385         0.04\n",
              "75  2017.0      384         0.01\n",
              "\n",
              "[76 rows x 3 columns]"
            ],
            "text/html": [
              "\n",
              "  <div id=\"df-95fd1093-7301-4037-bb05-9c095446284f\">\n",
              "    <div class=\"colab-df-container\">\n",
              "      <div>\n",
              "<style scoped>\n",
              "    .dataframe tbody tr th:only-of-type {\n",
              "        vertical-align: middle;\n",
              "    }\n",
              "\n",
              "    .dataframe tbody tr th {\n",
              "        vertical-align: top;\n",
              "    }\n",
              "\n",
              "    .dataframe thead th {\n",
              "        text-align: right;\n",
              "    }\n",
              "</style>\n",
              "<table border=\"1\" class=\"dataframe\">\n",
              "  <thead>\n",
              "    <tr style=\"text-align: right;\">\n",
              "      <th></th>\n",
              "      <th>Year</th>\n",
              "      <th>level_1</th>\n",
              "      <th>Total_sales</th>\n",
              "    </tr>\n",
              "  </thead>\n",
              "  <tbody>\n",
              "    <tr>\n",
              "      <th>0</th>\n",
              "      <td>1980.0</td>\n",
              "      <td>3</td>\n",
              "      <td>7.07</td>\n",
              "    </tr>\n",
              "    <tr>\n",
              "      <th>1</th>\n",
              "      <td>1980.0</td>\n",
              "      <td>2</td>\n",
              "      <td>2.47</td>\n",
              "    </tr>\n",
              "    <tr>\n",
              "      <th>2</th>\n",
              "      <td>1981.0</td>\n",
              "      <td>4</td>\n",
              "      <td>12.82</td>\n",
              "    </tr>\n",
              "    <tr>\n",
              "      <th>3</th>\n",
              "      <td>1981.0</td>\n",
              "      <td>8</td>\n",
              "      <td>10.02</td>\n",
              "    </tr>\n",
              "    <tr>\n",
              "      <th>4</th>\n",
              "      <td>1982.0</td>\n",
              "      <td>14</td>\n",
              "      <td>10.04</td>\n",
              "    </tr>\n",
              "    <tr>\n",
              "      <th>...</th>\n",
              "      <td>...</td>\n",
              "      <td>...</td>\n",
              "      <td>...</td>\n",
              "    </tr>\n",
              "    <tr>\n",
              "      <th>71</th>\n",
              "      <td>2015.0</td>\n",
              "      <td>369</td>\n",
              "      <td>65.78</td>\n",
              "    </tr>\n",
              "    <tr>\n",
              "      <th>72</th>\n",
              "      <td>2016.0</td>\n",
              "      <td>373</td>\n",
              "      <td>19.62</td>\n",
              "    </tr>\n",
              "    <tr>\n",
              "      <th>73</th>\n",
              "      <td>2016.0</td>\n",
              "      <td>380</td>\n",
              "      <td>13.68</td>\n",
              "    </tr>\n",
              "    <tr>\n",
              "      <th>74</th>\n",
              "      <td>2017.0</td>\n",
              "      <td>385</td>\n",
              "      <td>0.04</td>\n",
              "    </tr>\n",
              "    <tr>\n",
              "      <th>75</th>\n",
              "      <td>2017.0</td>\n",
              "      <td>384</td>\n",
              "      <td>0.01</td>\n",
              "    </tr>\n",
              "  </tbody>\n",
              "</table>\n",
              "<p>76 rows × 3 columns</p>\n",
              "</div>\n",
              "      <button class=\"colab-df-convert\" onclick=\"convertToInteractive('df-95fd1093-7301-4037-bb05-9c095446284f')\"\n",
              "              title=\"Convert this dataframe to an interactive table.\"\n",
              "              style=\"display:none;\">\n",
              "        \n",
              "  <svg xmlns=\"http://www.w3.org/2000/svg\" height=\"24px\"viewBox=\"0 0 24 24\"\n",
              "       width=\"24px\">\n",
              "    <path d=\"M0 0h24v24H0V0z\" fill=\"none\"/>\n",
              "    <path d=\"M18.56 5.44l.94 2.06.94-2.06 2.06-.94-2.06-.94-.94-2.06-.94 2.06-2.06.94zm-11 1L8.5 8.5l.94-2.06 2.06-.94-2.06-.94L8.5 2.5l-.94 2.06-2.06.94zm10 10l.94 2.06.94-2.06 2.06-.94-2.06-.94-.94-2.06-.94 2.06-2.06.94z\"/><path d=\"M17.41 7.96l-1.37-1.37c-.4-.4-.92-.59-1.43-.59-.52 0-1.04.2-1.43.59L10.3 9.45l-7.72 7.72c-.78.78-.78 2.05 0 2.83L4 21.41c.39.39.9.59 1.41.59.51 0 1.02-.2 1.41-.59l7.78-7.78 2.81-2.81c.8-.78.8-2.07 0-2.86zM5.41 20L4 18.59l7.72-7.72 1.47 1.35L5.41 20z\"/>\n",
              "  </svg>\n",
              "      </button>\n",
              "      \n",
              "  <style>\n",
              "    .colab-df-container {\n",
              "      display:flex;\n",
              "      flex-wrap:wrap;\n",
              "      gap: 12px;\n",
              "    }\n",
              "\n",
              "    .colab-df-convert {\n",
              "      background-color: #E8F0FE;\n",
              "      border: none;\n",
              "      border-radius: 50%;\n",
              "      cursor: pointer;\n",
              "      display: none;\n",
              "      fill: #1967D2;\n",
              "      height: 32px;\n",
              "      padding: 0 0 0 0;\n",
              "      width: 32px;\n",
              "    }\n",
              "\n",
              "    .colab-df-convert:hover {\n",
              "      background-color: #E2EBFA;\n",
              "      box-shadow: 0px 1px 2px rgba(60, 64, 67, 0.3), 0px 1px 3px 1px rgba(60, 64, 67, 0.15);\n",
              "      fill: #174EA6;\n",
              "    }\n",
              "\n",
              "    [theme=dark] .colab-df-convert {\n",
              "      background-color: #3B4455;\n",
              "      fill: #D2E3FC;\n",
              "    }\n",
              "\n",
              "    [theme=dark] .colab-df-convert:hover {\n",
              "      background-color: #434B5C;\n",
              "      box-shadow: 0px 1px 3px 1px rgba(0, 0, 0, 0.15);\n",
              "      filter: drop-shadow(0px 1px 2px rgba(0, 0, 0, 0.3));\n",
              "      fill: #FFFFFF;\n",
              "    }\n",
              "  </style>\n",
              "\n",
              "      <script>\n",
              "        const buttonEl =\n",
              "          document.querySelector('#df-95fd1093-7301-4037-bb05-9c095446284f button.colab-df-convert');\n",
              "        buttonEl.style.display =\n",
              "          google.colab.kernel.accessAllowed ? 'block' : 'none';\n",
              "\n",
              "        async function convertToInteractive(key) {\n",
              "          const element = document.querySelector('#df-95fd1093-7301-4037-bb05-9c095446284f');\n",
              "          const dataTable =\n",
              "            await google.colab.kernel.invokeFunction('convertToInteractive',\n",
              "                                                     [key], {});\n",
              "          if (!dataTable) return;\n",
              "\n",
              "          const docLinkHtml = 'Like what you see? Visit the ' +\n",
              "            '<a target=\"_blank\" href=https://colab.research.google.com/notebooks/data_table.ipynb>data table notebook</a>'\n",
              "            + ' to learn more about interactive tables.';\n",
              "          element.innerHTML = '';\n",
              "          dataTable['output_type'] = 'display_data';\n",
              "          await google.colab.output.renderOutput(dataTable, element);\n",
              "          const docLink = document.createElement('div');\n",
              "          docLink.innerHTML = docLinkHtml;\n",
              "          element.appendChild(docLink);\n",
              "        }\n",
              "      </script>\n",
              "    </div>\n",
              "  </div>\n",
              "  "
            ]
          },
          "metadata": {},
          "execution_count": 565
        }
      ]
    },
    {
      "cell_type": "code",
      "source": [
        ""
      ],
      "metadata": {
        "id": "q-Nuotfgd3Ld"
      },
      "execution_count": 535,
      "outputs": []
    },
    {
      "cell_type": "markdown",
      "source": [
        "##출고량이 높은 게임에 대한 분석 및 시각화 프로세스"
      ],
      "metadata": {
        "id": "SPlc6Xz7Jy2J"
      }
    },
    {
      "cell_type": "code",
      "source": [
        "#플렛폼별 게임 갯수 top10\n",
        "print(\"플렛폼별 게임 카운트 top10\")\n",
        "print(df['Platform'].value_counts().head(10),\"\\n\")\n",
        "\n",
        "#플렛폼 별 토탈 게임 출고량 순 top10\n",
        "print(\"플렛폼 별 토탈 게임 출고량 순 top10\")\n",
        "print(df.groupby(['Platform']).sum()[\"Total_sales\"].sort_values(ascending = False).head(10))"
      ],
      "metadata": {
        "colab": {
          "base_uri": "https://localhost:8080/"
        },
        "id": "aQyWMVaH-fBG",
        "outputId": "47e8bdec-5f99-49ba-ff46-91e7f7f3506a"
      },
      "execution_count": 536,
      "outputs": [
        {
          "output_type": "stream",
          "name": "stdout",
          "text": [
            "플렛폼별 게임 카운트 top10\n",
            "DS      2020\n",
            "PS2     2012\n",
            "PS3     1227\n",
            "Wii     1217\n",
            "X360    1171\n",
            "PSP     1130\n",
            "PS      1114\n",
            "PC       884\n",
            "XB       758\n",
            "GBA      743\n",
            "Name: Platform, dtype: int64 \n",
            "\n",
            "플렛폼 별 토탈 게임 출고량 순 top10\n",
            "Platform\n",
            "PS2     1162.28\n",
            "PS3      900.50\n",
            "X360     884.52\n",
            "Wii      867.33\n",
            "DS       770.53\n",
            "PS       679.50\n",
            "PSP      279.25\n",
            "GBA      279.08\n",
            "PS4      250.54\n",
            "PC       242.35\n",
            "Name: Total_sales, dtype: float64\n"
          ]
        }
      ]
    },
    {
      "cell_type": "code",
      "source": [
        "df.info"
      ],
      "metadata": {
        "id": "hmqZZrQrA3SU",
        "colab": {
          "base_uri": "https://localhost:8080/"
        },
        "outputId": "8239e835-d70c-4e42-e143-e5214db46398"
      },
      "execution_count": 537,
      "outputs": [
        {
          "output_type": "execute_result",
          "data": {
            "text/plain": [
              "<bound method DataFrame.info of                                                  Name Platform    Year  \\\n",
              "0                        Candace Kane's Candy Factory       DS  2008.0   \n",
              "1                                      The Munchables      Wii  2009.0   \n",
              "2      Otome wa Oanesama Boku ni Koi Shiteru Portable      PSP  2010.0   \n",
              "3                    Deal or No Deal: Special Edition       DS  2010.0   \n",
              "4           Ben 10 Ultimate Alien: Cosmic Destruction      PS3  2010.0   \n",
              "...                                               ...      ...     ...   \n",
              "15376                         Ice Age 2: The Meltdown       GC  2006.0   \n",
              "15377                     Rainbow Islands: Revolution      PSP  2005.0   \n",
              "15378                                        NBA 2K16      PS3  2015.0   \n",
              "15379                     Toukiden: The Age of Demons      PSV  2013.0   \n",
              "15380                        The King of Fighters '95       PS  1996.0   \n",
              "\n",
              "           Genre                    Publisher  NA_Sales  EU_Sales  JP_Sales  \\\n",
              "0         Action                    Destineer      0.04      0.00      0.00   \n",
              "1         Action           Namco Bandai Games      0.17      0.00      0.00   \n",
              "2      Adventure                    Alchemist      0.00      0.00      0.02   \n",
              "3           Misc                    Zoo Games      0.04      0.00      0.00   \n",
              "4       Platform                  D3Publisher      0.12      0.09      0.00   \n",
              "...          ...                          ...       ...       ...       ...   \n",
              "15376   Platform                Vivendi Games      0.15      0.04      0.00   \n",
              "15377     Action            Rising Star Games      0.01      0.00      0.00   \n",
              "15378     Sports         Take-Two Interactive      0.44      0.19      0.03   \n",
              "15379     Action                   Tecmo Koei      0.05      0.05      0.25   \n",
              "15380   Fighting  Sony Computer Entertainment      0.00      0.00      0.16   \n",
              "\n",
              "       Other_Sales  Total_sales  \n",
              "0             0.00         0.04  \n",
              "1             0.01         0.18  \n",
              "2             0.00         0.02  \n",
              "3             0.00         0.04  \n",
              "4             0.04         0.25  \n",
              "...            ...          ...  \n",
              "15376         0.01         0.20  \n",
              "15377         0.00         0.01  \n",
              "15378         0.13         0.79  \n",
              "15379         0.03         0.38  \n",
              "15380         0.01         0.17  \n",
              "\n",
              "[15381 rows x 10 columns]>"
            ]
          },
          "metadata": {},
          "execution_count": 537
        }
      ]
    },
    {
      "cell_type": "code",
      "source": [
        ""
      ],
      "metadata": {
        "id": "upz4fcPGESNj"
      },
      "execution_count": 537,
      "outputs": []
    }
  ]
}