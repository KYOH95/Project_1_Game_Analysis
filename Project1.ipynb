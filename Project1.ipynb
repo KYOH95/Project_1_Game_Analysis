{
  "nbformat": 4,
  "nbformat_minor": 0,
  "metadata": {
    "colab": {
      "name": "Project1.ipynb",
      "provenance": [],
      "collapsed_sections": [],
      "toc_visible": true
    },
    "kernelspec": {
      "name": "python3",
      "display_name": "Python 3"
    },
    "language_info": {
      "name": "python"
    }
  },
  "cells": [
    {
      "cell_type": "code",
      "execution_count": 73,
      "metadata": {
        "id": "gDR9s0Mz-SAR"
      },
      "outputs": [],
      "source": [
        "import pandas as pd\n",
        "import numpy as np\n",
        "import seaborn as sns\n",
        "import matplotlib.pyplot as plt"
      ]
    },
    {
      "cell_type": "markdown",
      "source": [
        "##데이터 불러오기"
      ],
      "metadata": {
        "id": "yRMN_ocCJ5Eb"
      }
    },
    {
      "cell_type": "code",
      "source": [
        "df_origin = pd.read_csv(\"https://ds-lecture-data.s3.ap-northeast-2.amazonaws.com/datasets/vgames2.csv\")\n",
        "df = df_origin\n",
        "df.head(3)"
      ],
      "metadata": {
        "colab": {
          "base_uri": "https://localhost:8080/",
          "height": 143
        },
        "id": "68VhuWdm-e8y",
        "outputId": "39b8f5d0-f96c-4e4b-f018-668b3c774c79"
      },
      "execution_count": 74,
      "outputs": [
        {
          "output_type": "execute_result",
          "data": {
            "text/plain": [
              "   Unnamed: 0                                            Name Platform  \\\n",
              "0           1                    Candace Kane's Candy Factory       DS   \n",
              "1           2                                  The Munchables      Wii   \n",
              "2           3  Otome wa Oanesama Boku ni Koi Shiteru Portable      PSP   \n",
              "\n",
              "     Year      Genre           Publisher NA_Sales EU_Sales JP_Sales  \\\n",
              "0  2008.0     Action           Destineer     0.04        0        0   \n",
              "1  2009.0     Action  Namco Bandai Games     0.17        0        0   \n",
              "2  2010.0  Adventure           Alchemist        0        0     0.02   \n",
              "\n",
              "  Other_Sales  \n",
              "0           0  \n",
              "1        0.01  \n",
              "2           0  "
            ],
            "text/html": [
              "\n",
              "  <div id=\"df-8ea7e9b1-a5d1-4541-b42c-b2d790221ec0\">\n",
              "    <div class=\"colab-df-container\">\n",
              "      <div>\n",
              "<style scoped>\n",
              "    .dataframe tbody tr th:only-of-type {\n",
              "        vertical-align: middle;\n",
              "    }\n",
              "\n",
              "    .dataframe tbody tr th {\n",
              "        vertical-align: top;\n",
              "    }\n",
              "\n",
              "    .dataframe thead th {\n",
              "        text-align: right;\n",
              "    }\n",
              "</style>\n",
              "<table border=\"1\" class=\"dataframe\">\n",
              "  <thead>\n",
              "    <tr style=\"text-align: right;\">\n",
              "      <th></th>\n",
              "      <th>Unnamed: 0</th>\n",
              "      <th>Name</th>\n",
              "      <th>Platform</th>\n",
              "      <th>Year</th>\n",
              "      <th>Genre</th>\n",
              "      <th>Publisher</th>\n",
              "      <th>NA_Sales</th>\n",
              "      <th>EU_Sales</th>\n",
              "      <th>JP_Sales</th>\n",
              "      <th>Other_Sales</th>\n",
              "    </tr>\n",
              "  </thead>\n",
              "  <tbody>\n",
              "    <tr>\n",
              "      <th>0</th>\n",
              "      <td>1</td>\n",
              "      <td>Candace Kane's Candy Factory</td>\n",
              "      <td>DS</td>\n",
              "      <td>2008.0</td>\n",
              "      <td>Action</td>\n",
              "      <td>Destineer</td>\n",
              "      <td>0.04</td>\n",
              "      <td>0</td>\n",
              "      <td>0</td>\n",
              "      <td>0</td>\n",
              "    </tr>\n",
              "    <tr>\n",
              "      <th>1</th>\n",
              "      <td>2</td>\n",
              "      <td>The Munchables</td>\n",
              "      <td>Wii</td>\n",
              "      <td>2009.0</td>\n",
              "      <td>Action</td>\n",
              "      <td>Namco Bandai Games</td>\n",
              "      <td>0.17</td>\n",
              "      <td>0</td>\n",
              "      <td>0</td>\n",
              "      <td>0.01</td>\n",
              "    </tr>\n",
              "    <tr>\n",
              "      <th>2</th>\n",
              "      <td>3</td>\n",
              "      <td>Otome wa Oanesama Boku ni Koi Shiteru Portable</td>\n",
              "      <td>PSP</td>\n",
              "      <td>2010.0</td>\n",
              "      <td>Adventure</td>\n",
              "      <td>Alchemist</td>\n",
              "      <td>0</td>\n",
              "      <td>0</td>\n",
              "      <td>0.02</td>\n",
              "      <td>0</td>\n",
              "    </tr>\n",
              "  </tbody>\n",
              "</table>\n",
              "</div>\n",
              "      <button class=\"colab-df-convert\" onclick=\"convertToInteractive('df-8ea7e9b1-a5d1-4541-b42c-b2d790221ec0')\"\n",
              "              title=\"Convert this dataframe to an interactive table.\"\n",
              "              style=\"display:none;\">\n",
              "        \n",
              "  <svg xmlns=\"http://www.w3.org/2000/svg\" height=\"24px\"viewBox=\"0 0 24 24\"\n",
              "       width=\"24px\">\n",
              "    <path d=\"M0 0h24v24H0V0z\" fill=\"none\"/>\n",
              "    <path d=\"M18.56 5.44l.94 2.06.94-2.06 2.06-.94-2.06-.94-.94-2.06-.94 2.06-2.06.94zm-11 1L8.5 8.5l.94-2.06 2.06-.94-2.06-.94L8.5 2.5l-.94 2.06-2.06.94zm10 10l.94 2.06.94-2.06 2.06-.94-2.06-.94-.94-2.06-.94 2.06-2.06.94z\"/><path d=\"M17.41 7.96l-1.37-1.37c-.4-.4-.92-.59-1.43-.59-.52 0-1.04.2-1.43.59L10.3 9.45l-7.72 7.72c-.78.78-.78 2.05 0 2.83L4 21.41c.39.39.9.59 1.41.59.51 0 1.02-.2 1.41-.59l7.78-7.78 2.81-2.81c.8-.78.8-2.07 0-2.86zM5.41 20L4 18.59l7.72-7.72 1.47 1.35L5.41 20z\"/>\n",
              "  </svg>\n",
              "      </button>\n",
              "      \n",
              "  <style>\n",
              "    .colab-df-container {\n",
              "      display:flex;\n",
              "      flex-wrap:wrap;\n",
              "      gap: 12px;\n",
              "    }\n",
              "\n",
              "    .colab-df-convert {\n",
              "      background-color: #E8F0FE;\n",
              "      border: none;\n",
              "      border-radius: 50%;\n",
              "      cursor: pointer;\n",
              "      display: none;\n",
              "      fill: #1967D2;\n",
              "      height: 32px;\n",
              "      padding: 0 0 0 0;\n",
              "      width: 32px;\n",
              "    }\n",
              "\n",
              "    .colab-df-convert:hover {\n",
              "      background-color: #E2EBFA;\n",
              "      box-shadow: 0px 1px 2px rgba(60, 64, 67, 0.3), 0px 1px 3px 1px rgba(60, 64, 67, 0.15);\n",
              "      fill: #174EA6;\n",
              "    }\n",
              "\n",
              "    [theme=dark] .colab-df-convert {\n",
              "      background-color: #3B4455;\n",
              "      fill: #D2E3FC;\n",
              "    }\n",
              "\n",
              "    [theme=dark] .colab-df-convert:hover {\n",
              "      background-color: #434B5C;\n",
              "      box-shadow: 0px 1px 3px 1px rgba(0, 0, 0, 0.15);\n",
              "      filter: drop-shadow(0px 1px 2px rgba(0, 0, 0, 0.3));\n",
              "      fill: #FFFFFF;\n",
              "    }\n",
              "  </style>\n",
              "\n",
              "      <script>\n",
              "        const buttonEl =\n",
              "          document.querySelector('#df-8ea7e9b1-a5d1-4541-b42c-b2d790221ec0 button.colab-df-convert');\n",
              "        buttonEl.style.display =\n",
              "          google.colab.kernel.accessAllowed ? 'block' : 'none';\n",
              "\n",
              "        async function convertToInteractive(key) {\n",
              "          const element = document.querySelector('#df-8ea7e9b1-a5d1-4541-b42c-b2d790221ec0');\n",
              "          const dataTable =\n",
              "            await google.colab.kernel.invokeFunction('convertToInteractive',\n",
              "                                                     [key], {});\n",
              "          if (!dataTable) return;\n",
              "\n",
              "          const docLinkHtml = 'Like what you see? Visit the ' +\n",
              "            '<a target=\"_blank\" href=https://colab.research.google.com/notebooks/data_table.ipynb>data table notebook</a>'\n",
              "            + ' to learn more about interactive tables.';\n",
              "          element.innerHTML = '';\n",
              "          dataTable['output_type'] = 'display_data';\n",
              "          await google.colab.output.renderOutput(dataTable, element);\n",
              "          const docLink = document.createElement('div');\n",
              "          docLink.innerHTML = docLinkHtml;\n",
              "          element.appendChild(docLink);\n",
              "        }\n",
              "      </script>\n",
              "    </div>\n",
              "  </div>\n",
              "  "
            ]
          },
          "metadata": {},
          "execution_count": 74
        }
      ]
    },
    {
      "cell_type": "markdown",
      "source": [
        "## EDA"
      ],
      "metadata": {
        "id": "Qhdxf47HgtRX"
      }
    },
    {
      "cell_type": "markdown",
      "source": [
        "#### 데이터 타입 확인 및 변경"
      ],
      "metadata": {
        "id": "FIUutDIbg4rb"
      }
    },
    {
      "cell_type": "code",
      "source": [
        "#데이터 확인\n",
        "df.info()\n",
        "\n",
        "#sales 값 object에서 float으로 타입 변경\n",
        "df['NA_Sales'] = pd.to_numeric(df['NA_Sales'],errors = 'coerce') #coerce = 오류값 nan값으로 대체\n",
        "df['EU_Sales'] = pd.to_numeric(df['EU_Sales'],errors = 'coerce')\n",
        "df['JP_Sales'] = pd.to_numeric(df['JP_Sales'],errors = 'coerce')\n",
        "df['Other_Sales'] = pd.to_numeric(df['Other_Sales'],errors = 'coerce')\n",
        "\n",
        "#Total_sales 칼럼을 새로 만든다.\n",
        "df['Total_sales'] = df['NA_Sales'] + df['EU_Sales'] + df['JP_Sales'] + df['Other_Sales']\n",
        "\n",
        "#Total_sales가 0인 행 확인\n",
        "condition = df[\"Total_sales\"]<=0\n",
        "print(\"Total_sales가 0인 행\\n\",df[condition].count())\n",
        "print(\"sales 0값 데이터 제거 전:\", df.shape)\n",
        "\n",
        "#Total Sales가 0인 데이터도 삭제\n",
        "df.drop(df.loc[df[\"Total_sales\"] == 0].index, inplace = True) \n",
        "print(\"sales 0값 데이터 제거 후:\",df.shape)"
      ],
      "metadata": {
        "colab": {
          "base_uri": "https://localhost:8080/"
        },
        "id": "3-5TzO0tINFZ",
        "outputId": "00f3dcfe-d9d7-4266-b656-160fe1c0dcea"
      },
      "execution_count": 75,
      "outputs": [
        {
          "output_type": "stream",
          "name": "stdout",
          "text": [
            "<class 'pandas.core.frame.DataFrame'>\n",
            "RangeIndex: 16598 entries, 0 to 16597\n",
            "Data columns (total 10 columns):\n",
            " #   Column       Non-Null Count  Dtype  \n",
            "---  ------       --------------  -----  \n",
            " 0   Unnamed: 0   16598 non-null  int64  \n",
            " 1   Name         16598 non-null  object \n",
            " 2   Platform     16598 non-null  object \n",
            " 3   Year         16327 non-null  float64\n",
            " 4   Genre        16548 non-null  object \n",
            " 5   Publisher    16540 non-null  object \n",
            " 6   NA_Sales     16598 non-null  object \n",
            " 7   EU_Sales     16598 non-null  object \n",
            " 8   JP_Sales     16598 non-null  object \n",
            " 9   Other_Sales  16598 non-null  object \n",
            "dtypes: float64(1), int64(1), object(8)\n",
            "memory usage: 1.3+ MB\n",
            "Total_sales가 0인 행\n",
            " Unnamed: 0     1\n",
            "Name           1\n",
            "Platform       1\n",
            "Year           1\n",
            "Genre          1\n",
            "Publisher      1\n",
            "NA_Sales       1\n",
            "EU_Sales       1\n",
            "JP_Sales       1\n",
            "Other_Sales    1\n",
            "Total_sales    1\n",
            "dtype: int64\n",
            "sales 0값 데이터 제거 전: (16598, 11)\n",
            "sales 0값 데이터 제거 후: (16597, 11)\n"
          ]
        }
      ]
    },
    {
      "cell_type": "markdown",
      "source": [
        "#### 결측치 확인 및 제거"
      ],
      "metadata": {
        "id": "NziT8m5OhNHP"
      }
    },
    {
      "cell_type": "code",
      "source": [
        "#결측치 확인\n",
        "print(\"결측치:\\n\",df.isnull().sum()) \n",
        "\n",
        "print(\"결측치 제거 전 데이터:\",df.shape)\n",
        "\n",
        "df = df.drop(df.columns[[0]], axis=1) #첫번째 열 제거\n",
        "df = df.dropna(axis = 0) #결측치가 포함된 모든 행 제거\n",
        "df = df.reset_index(level=None, drop=True, inplace=False, col_level=0, col_fill='') #인덱스 reset\n",
        "\n",
        "print(\"결측치 제거 후 데이터:\",df.shape)"
      ],
      "metadata": {
        "colab": {
          "base_uri": "https://localhost:8080/"
        },
        "id": "Osr7s7z3KKQF",
        "outputId": "95b703f1-619d-4e97-81dc-fc472d696e3f"
      },
      "execution_count": 76,
      "outputs": [
        {
          "output_type": "stream",
          "name": "stdout",
          "text": [
            "결측치:\n",
            " Unnamed: 0       0\n",
            "Name             0\n",
            "Platform         0\n",
            "Year           271\n",
            "Genre           50\n",
            "Publisher       58\n",
            "NA_Sales       200\n",
            "EU_Sales       200\n",
            "JP_Sales       199\n",
            "Other_Sales    200\n",
            "Total_sales    785\n",
            "dtype: int64\n",
            "결측치 제거 전 데이터: (16597, 11)\n",
            "결측치 제거 후 데이터: (15475, 10)\n"
          ]
        }
      ]
    },
    {
      "cell_type": "code",
      "source": [
        "#duplicated 게임이름 검색하여 확인\n",
        "print(df.duplicated().sum()) \n",
        "\n",
        "#모든 값이 동일한 데이터가 없기 때문에 제거 대상 없음\n"
      ],
      "metadata": {
        "colab": {
          "base_uri": "https://localhost:8080/"
        },
        "id": "IIhztEfJeIW_",
        "outputId": "cad71c84-92c7-42d4-dca1-506f09209489"
      },
      "execution_count": 77,
      "outputs": [
        {
          "output_type": "stream",
          "name": "stdout",
          "text": [
            "0\n"
          ]
        }
      ]
    },
    {
      "cell_type": "markdown",
      "source": [
        "##지역에 따라서 선호하는 게임 장르가 다를까"
      ],
      "metadata": {
        "id": "SFjIwRcuI6v9"
      }
    },
    {
      "cell_type": "code",
      "source": [
        "df[[\"NA_Sales\",\"EU_Sales\",\"JP_Sales\",\"Other_Sales\",\"Total_sales\"]].sum()"
      ],
      "metadata": {
        "colab": {
          "base_uri": "https://localhost:8080/"
        },
        "id": "BOmTrQdQJ3zN",
        "outputId": "461d0d75-950e-4d69-c2c3-4325413af7e7"
      },
      "execution_count": 78,
      "outputs": [
        {
          "output_type": "execute_result",
          "data": {
            "text/plain": [
              "NA_Sales       4080.71\n",
              "EU_Sales       2265.25\n",
              "JP_Sales       1204.19\n",
              "Other_Sales     748.17\n",
              "Total_sales    8298.32\n",
              "dtype: float64"
            ]
          },
          "metadata": {},
          "execution_count": 78
        }
      ]
    },
    {
      "cell_type": "code",
      "source": [
        "a = df[\"NA_Sales\"].sum()\n",
        "b = df[\"EU_Sales\"].sum()\n",
        "c = df[\"JP_Sales\"].sum()\n",
        "d = df[\"Other_Sales\"].sum()\n",
        "e = df[\"Total_sales\"].sum()\n",
        "print(a,b,c,d,e)\n",
        "print(a+b+c+d)"
      ],
      "metadata": {
        "colab": {
          "base_uri": "https://localhost:8080/"
        },
        "id": "d32XPl3GOskP",
        "outputId": "fa585fe8-5982-4d5a-cc93-fc89e56d709a"
      },
      "execution_count": 79,
      "outputs": [
        {
          "output_type": "stream",
          "name": "stdout",
          "text": [
            "4080.71 2265.25 1204.19 748.17 8298.32\n",
            "8298.32\n"
          ]
        }
      ]
    },
    {
      "cell_type": "code",
      "source": [
        "df.sum()"
      ],
      "metadata": {
        "colab": {
          "base_uri": "https://localhost:8080/"
        },
        "id": "rX02u6nSc_Od",
        "outputId": "84cc2539-2c78-43f7-ab20-86b1bc7c0904"
      },
      "execution_count": 80,
      "outputs": [
        {
          "output_type": "execute_result",
          "data": {
            "text/plain": [
              "Name           Candace Kane's Candy FactoryThe MunchablesOtom...\n",
              "Platform       DSWiiPSPDSPS3DSPCPSPPS3PS3GBAPCDSDSPS3PCPS3PS4...\n",
              "Year                                                  30862398.0\n",
              "Genre          ActionActionAdventureMiscPlatformSportsSimulat...\n",
              "Publisher      DestineerNamco Bandai GamesAlchemistZoo GamesD...\n",
              "NA_Sales                                                 4080.71\n",
              "EU_Sales                                                 2265.25\n",
              "JP_Sales                                                 1204.19\n",
              "Other_Sales                                               748.17\n",
              "Total_sales                                              8298.32\n",
              "dtype: object"
            ]
          },
          "metadata": {},
          "execution_count": 80
        }
      ]
    },
    {
      "cell_type": "code",
      "source": [
        "condition = df[\"NA_Sales\"] > 0\n",
        "a = df[condition].value_counts().sum()\n",
        "df[condition].value_counts()"
      ],
      "metadata": {
        "colab": {
          "base_uri": "https://localhost:8080/"
        },
        "id": "wVFWZovpK6Bu",
        "outputId": "de15f59f-46ce-478f-a54f-3d66b2871c8f"
      },
      "execution_count": 81,
      "outputs": [
        {
          "output_type": "execute_result",
          "data": {
            "text/plain": [
              "Name                           Platform  Year    Genre         Publisher        NA_Sales  EU_Sales  JP_Sales  Other_Sales  Total_sales\n",
              "'98 Koshien                    PS        1998.0  Sports        Magical Company  0.15      0.10      0.12      0.03         0.40           1\n",
              "Petz Dogz 2                    DS        2007.0  Simulation    Ubisoft          0.47      0.52      0.00      0.12         1.11           1\n",
              "RPG Maker 3                    PS2       2004.0  Role-Playing  Enterbrain       0.03      0.02      0.00      0.01         0.06           1\n",
              "RPG Maker II                   PS2       2002.0  Role-Playing  Enterbrain       0.06      0.05      0.00      0.02         0.13           1\n",
              "RR64: Ridge Racer 64           N64       1999.0  Racing        Nintendo         0.32      0.07      0.00      0.00         0.39           1\n",
              "                                                                                                                                         ..\n",
              "Grooverider: Slot Car Thunder  XB        3.0     Racing        Encore           0.01      0.00      0.00      0.00         0.01           1\n",
              "Groovin' Blocks                Wii       2009.0  Puzzle        Zoo Games        0.01      0.00      0.00      0.00         0.01           1\n",
              "Group S Challenge              XB        2003.0  Racing        Capcom           0.02      0.00      0.00      0.00         0.02           1\n",
              "Growlanser Generations         PS2       2003.0  Role-Playing  Atlus            0.06      0.04      0.00      0.01         0.11           1\n",
              "uDraw Studio: Instant Artist   X360      2011.0  Misc          THQ              0.01      0.01      0.00      0.00         0.02           1\n",
              "Length: 11268, dtype: int64"
            ]
          },
          "metadata": {},
          "execution_count": 81
        }
      ]
    },
    {
      "cell_type": "code",
      "source": [
        "condition = df[\"NA_Sales\"] == 0\n",
        "b = df[condition].value_counts().sum()\n",
        "df[condition].value_counts()"
      ],
      "metadata": {
        "colab": {
          "base_uri": "https://localhost:8080/"
        },
        "id": "vJY4VqhOMBfB",
        "outputId": "3c500264-5141-48f1-8553-d7691db95135"
      },
      "execution_count": 82,
      "outputs": [
        {
          "output_type": "execute_result",
          "data": {
            "text/plain": [
              "Name                                               Platform  Year    Genre         Publisher           NA_Sales  EU_Sales  JP_Sales  Other_Sales  Total_sales\n",
              ".hack//G.U. Vol.1//Rebirth                         PS2       2006.0  Role-Playing  Namco Bandai Games  0.0       0.00      0.17      0.00         0.17           1\n",
              "Resident Evil 6                                    PC        2012.0  Shooter       Capcom              0.0       0.04      0.00      0.01         0.05           1\n",
              "Resident Evil Director's Cut                       PS3       2006.0  Action        Capcom              0.0       0.00      0.04      0.00         0.04           1\n",
              "Resident Evil Director's Cut: Dual Shock Edition   PS        1997.0  Action        Capcom              0.0       0.00      0.16      0.01         0.17           1\n",
              "Resident Evil: Operation Raccoon City              PC        2012.0  Action        Capcom              0.0       0.03      0.00      0.01         0.04           1\n",
              "                                                                                                                                                                ..\n",
              "Hitman: Blood Money                                PC        2006.0  Action        Eidos Interactive   0.0       0.03      0.00      0.01         0.04           1\n",
              "Hitotsu Tobashi Renai V                            PSV       2015.0  Adventure     Kaga Create         0.0       0.00      0.01      0.00         0.01           1\n",
              "Hokuto no Ken                                      PS2       2007.0  Fighting      Sega                0.0       0.00      0.05      0.00         0.05           1\n",
              "Hokuto no Ken: Hokuto Shinken Denshousha no Michi  DS        2008.0  Action        Spike               0.0       0.00      0.03      0.00         0.03           1\n",
              "¡Shin Chan Flipa en colores!                       DS        2007.0  Platform      505 Games           0.0       0.00      0.14      0.00         0.14           1\n",
              "Length: 4207, dtype: int64"
            ]
          },
          "metadata": {},
          "execution_count": 82
        }
      ]
    },
    {
      "cell_type": "code",
      "source": [
        "condition = df[\"NA_Sales\"] < 0\n",
        "c = df[condition].value_counts().sum()"
      ],
      "metadata": {
        "id": "ZPJSfXGcMM8H"
      },
      "execution_count": 83,
      "outputs": []
    },
    {
      "cell_type": "code",
      "source": [
        "print(a,b,c)\n",
        "print(a+b+c)"
      ],
      "metadata": {
        "colab": {
          "base_uri": "https://localhost:8080/"
        },
        "id": "Q1Ob9xvGLjDK",
        "outputId": "334eac76-4858-4583-8298-d654e0e626be"
      },
      "execution_count": 84,
      "outputs": [
        {
          "output_type": "stream",
          "name": "stdout",
          "text": [
            "11268 4207 0\n",
            "15475\n"
          ]
        }
      ]
    },
    {
      "cell_type": "markdown",
      "source": [
        "##연도별 게임의 트렌드가 있을까"
      ],
      "metadata": {
        "id": "tGhUW86lI62y"
      }
    },
    {
      "cell_type": "code",
      "source": [
        ""
      ],
      "metadata": {
        "id": "7WwW2RaXKBx0"
      },
      "execution_count": 84,
      "outputs": []
    },
    {
      "cell_type": "markdown",
      "source": [
        "##출고량이 높은 게임에 대한 분석 및 시각화 프로세스"
      ],
      "metadata": {
        "id": "SPlc6Xz7Jy2J"
      }
    },
    {
      "cell_type": "code",
      "source": [
        "#플렛폼별 게임 갯수 top10\n",
        "print(\"플렛폼별 게임 카운트 top10\")\n",
        "print(df['Platform'].value_counts().head(10),\"\\n\")\n",
        "\n",
        "#플렛폼 별 토탈 게임 출고량 순 top10\n",
        "print(\"플렛폼 별 토탈 게임 출고량 순 top10\")\n",
        "print(df.groupby(['Platform']).sum()[\"Total_sales\"].sort_values(ascending = False).head(10))"
      ],
      "metadata": {
        "colab": {
          "base_uri": "https://localhost:8080/"
        },
        "id": "aQyWMVaH-fBG",
        "outputId": "d253a504-08b1-451e-e63e-366c557850d8"
      },
      "execution_count": 85,
      "outputs": [
        {
          "output_type": "stream",
          "name": "stdout",
          "text": [
            "플렛폼별 게임 카운트 top10\n",
            "DS      2035\n",
            "PS2     2024\n",
            "PS3     1234\n",
            "Wii     1222\n",
            "X360    1176\n",
            "PSP     1137\n",
            "PS      1121\n",
            "PC       890\n",
            "XB       762\n",
            "GBA      747\n",
            "Name: Platform, dtype: int64 \n",
            "\n",
            "플렛폼 별 토탈 게임 출고량 순 top10\n",
            "Platform\n",
            "PS2     1172.40\n",
            "PS3      901.61\n",
            "X360     895.40\n",
            "Wii      868.18\n",
            "DS       787.69\n",
            "PS       681.18\n",
            "PSP      282.93\n",
            "GBA      279.30\n",
            "PS4      252.97\n",
            "PC       243.04\n",
            "Name: Total_sales, dtype: float64\n"
          ]
        }
      ]
    },
    {
      "cell_type": "code",
      "source": [
        ""
      ],
      "metadata": {
        "id": "hmqZZrQrA3SU"
      },
      "execution_count": 85,
      "outputs": []
    },
    {
      "cell_type": "code",
      "source": [
        "df"
      ],
      "metadata": {
        "colab": {
          "base_uri": "https://localhost:8080/",
          "height": 423
        },
        "id": "upz4fcPGESNj",
        "outputId": "317cc33d-04a2-42a6-96f1-e9d88a927707"
      },
      "execution_count": 86,
      "outputs": [
        {
          "output_type": "execute_result",
          "data": {
            "text/plain": [
              "                                                 Name Platform    Year  \\\n",
              "0                        Candace Kane's Candy Factory       DS  2008.0   \n",
              "1                                      The Munchables      Wii  2009.0   \n",
              "2      Otome wa Oanesama Boku ni Koi Shiteru Portable      PSP  2010.0   \n",
              "3                    Deal or No Deal: Special Edition       DS  2010.0   \n",
              "4           Ben 10 Ultimate Alien: Cosmic Destruction      PS3  2010.0   \n",
              "...                                               ...      ...     ...   \n",
              "15470                         Ice Age 2: The Meltdown       GC  2006.0   \n",
              "15471                     Rainbow Islands: Revolution      PSP  2005.0   \n",
              "15472                                        NBA 2K16      PS3  2015.0   \n",
              "15473                     Toukiden: The Age of Demons      PSV  2013.0   \n",
              "15474                        The King of Fighters '95       PS  1996.0   \n",
              "\n",
              "           Genre                    Publisher  NA_Sales  EU_Sales  JP_Sales  \\\n",
              "0         Action                    Destineer      0.04      0.00      0.00   \n",
              "1         Action           Namco Bandai Games      0.17      0.00      0.00   \n",
              "2      Adventure                    Alchemist      0.00      0.00      0.02   \n",
              "3           Misc                    Zoo Games      0.04      0.00      0.00   \n",
              "4       Platform                  D3Publisher      0.12      0.09      0.00   \n",
              "...          ...                          ...       ...       ...       ...   \n",
              "15470   Platform                Vivendi Games      0.15      0.04      0.00   \n",
              "15471     Action            Rising Star Games      0.01      0.00      0.00   \n",
              "15472     Sports         Take-Two Interactive      0.44      0.19      0.03   \n",
              "15473     Action                   Tecmo Koei      0.05      0.05      0.25   \n",
              "15474   Fighting  Sony Computer Entertainment      0.00      0.00      0.16   \n",
              "\n",
              "       Other_Sales  Total_sales  \n",
              "0             0.00         0.04  \n",
              "1             0.01         0.18  \n",
              "2             0.00         0.02  \n",
              "3             0.00         0.04  \n",
              "4             0.04         0.25  \n",
              "...            ...          ...  \n",
              "15470         0.01         0.20  \n",
              "15471         0.00         0.01  \n",
              "15472         0.13         0.79  \n",
              "15473         0.03         0.38  \n",
              "15474         0.01         0.17  \n",
              "\n",
              "[15475 rows x 10 columns]"
            ],
            "text/html": [
              "\n",
              "  <div id=\"df-505f29af-557d-40d6-9094-030d4c8cfaa4\">\n",
              "    <div class=\"colab-df-container\">\n",
              "      <div>\n",
              "<style scoped>\n",
              "    .dataframe tbody tr th:only-of-type {\n",
              "        vertical-align: middle;\n",
              "    }\n",
              "\n",
              "    .dataframe tbody tr th {\n",
              "        vertical-align: top;\n",
              "    }\n",
              "\n",
              "    .dataframe thead th {\n",
              "        text-align: right;\n",
              "    }\n",
              "</style>\n",
              "<table border=\"1\" class=\"dataframe\">\n",
              "  <thead>\n",
              "    <tr style=\"text-align: right;\">\n",
              "      <th></th>\n",
              "      <th>Name</th>\n",
              "      <th>Platform</th>\n",
              "      <th>Year</th>\n",
              "      <th>Genre</th>\n",
              "      <th>Publisher</th>\n",
              "      <th>NA_Sales</th>\n",
              "      <th>EU_Sales</th>\n",
              "      <th>JP_Sales</th>\n",
              "      <th>Other_Sales</th>\n",
              "      <th>Total_sales</th>\n",
              "    </tr>\n",
              "  </thead>\n",
              "  <tbody>\n",
              "    <tr>\n",
              "      <th>0</th>\n",
              "      <td>Candace Kane's Candy Factory</td>\n",
              "      <td>DS</td>\n",
              "      <td>2008.0</td>\n",
              "      <td>Action</td>\n",
              "      <td>Destineer</td>\n",
              "      <td>0.04</td>\n",
              "      <td>0.00</td>\n",
              "      <td>0.00</td>\n",
              "      <td>0.00</td>\n",
              "      <td>0.04</td>\n",
              "    </tr>\n",
              "    <tr>\n",
              "      <th>1</th>\n",
              "      <td>The Munchables</td>\n",
              "      <td>Wii</td>\n",
              "      <td>2009.0</td>\n",
              "      <td>Action</td>\n",
              "      <td>Namco Bandai Games</td>\n",
              "      <td>0.17</td>\n",
              "      <td>0.00</td>\n",
              "      <td>0.00</td>\n",
              "      <td>0.01</td>\n",
              "      <td>0.18</td>\n",
              "    </tr>\n",
              "    <tr>\n",
              "      <th>2</th>\n",
              "      <td>Otome wa Oanesama Boku ni Koi Shiteru Portable</td>\n",
              "      <td>PSP</td>\n",
              "      <td>2010.0</td>\n",
              "      <td>Adventure</td>\n",
              "      <td>Alchemist</td>\n",
              "      <td>0.00</td>\n",
              "      <td>0.00</td>\n",
              "      <td>0.02</td>\n",
              "      <td>0.00</td>\n",
              "      <td>0.02</td>\n",
              "    </tr>\n",
              "    <tr>\n",
              "      <th>3</th>\n",
              "      <td>Deal or No Deal: Special Edition</td>\n",
              "      <td>DS</td>\n",
              "      <td>2010.0</td>\n",
              "      <td>Misc</td>\n",
              "      <td>Zoo Games</td>\n",
              "      <td>0.04</td>\n",
              "      <td>0.00</td>\n",
              "      <td>0.00</td>\n",
              "      <td>0.00</td>\n",
              "      <td>0.04</td>\n",
              "    </tr>\n",
              "    <tr>\n",
              "      <th>4</th>\n",
              "      <td>Ben 10 Ultimate Alien: Cosmic Destruction</td>\n",
              "      <td>PS3</td>\n",
              "      <td>2010.0</td>\n",
              "      <td>Platform</td>\n",
              "      <td>D3Publisher</td>\n",
              "      <td>0.12</td>\n",
              "      <td>0.09</td>\n",
              "      <td>0.00</td>\n",
              "      <td>0.04</td>\n",
              "      <td>0.25</td>\n",
              "    </tr>\n",
              "    <tr>\n",
              "      <th>...</th>\n",
              "      <td>...</td>\n",
              "      <td>...</td>\n",
              "      <td>...</td>\n",
              "      <td>...</td>\n",
              "      <td>...</td>\n",
              "      <td>...</td>\n",
              "      <td>...</td>\n",
              "      <td>...</td>\n",
              "      <td>...</td>\n",
              "      <td>...</td>\n",
              "    </tr>\n",
              "    <tr>\n",
              "      <th>15470</th>\n",
              "      <td>Ice Age 2: The Meltdown</td>\n",
              "      <td>GC</td>\n",
              "      <td>2006.0</td>\n",
              "      <td>Platform</td>\n",
              "      <td>Vivendi Games</td>\n",
              "      <td>0.15</td>\n",
              "      <td>0.04</td>\n",
              "      <td>0.00</td>\n",
              "      <td>0.01</td>\n",
              "      <td>0.20</td>\n",
              "    </tr>\n",
              "    <tr>\n",
              "      <th>15471</th>\n",
              "      <td>Rainbow Islands: Revolution</td>\n",
              "      <td>PSP</td>\n",
              "      <td>2005.0</td>\n",
              "      <td>Action</td>\n",
              "      <td>Rising Star Games</td>\n",
              "      <td>0.01</td>\n",
              "      <td>0.00</td>\n",
              "      <td>0.00</td>\n",
              "      <td>0.00</td>\n",
              "      <td>0.01</td>\n",
              "    </tr>\n",
              "    <tr>\n",
              "      <th>15472</th>\n",
              "      <td>NBA 2K16</td>\n",
              "      <td>PS3</td>\n",
              "      <td>2015.0</td>\n",
              "      <td>Sports</td>\n",
              "      <td>Take-Two Interactive</td>\n",
              "      <td>0.44</td>\n",
              "      <td>0.19</td>\n",
              "      <td>0.03</td>\n",
              "      <td>0.13</td>\n",
              "      <td>0.79</td>\n",
              "    </tr>\n",
              "    <tr>\n",
              "      <th>15473</th>\n",
              "      <td>Toukiden: The Age of Demons</td>\n",
              "      <td>PSV</td>\n",
              "      <td>2013.0</td>\n",
              "      <td>Action</td>\n",
              "      <td>Tecmo Koei</td>\n",
              "      <td>0.05</td>\n",
              "      <td>0.05</td>\n",
              "      <td>0.25</td>\n",
              "      <td>0.03</td>\n",
              "      <td>0.38</td>\n",
              "    </tr>\n",
              "    <tr>\n",
              "      <th>15474</th>\n",
              "      <td>The King of Fighters '95</td>\n",
              "      <td>PS</td>\n",
              "      <td>1996.0</td>\n",
              "      <td>Fighting</td>\n",
              "      <td>Sony Computer Entertainment</td>\n",
              "      <td>0.00</td>\n",
              "      <td>0.00</td>\n",
              "      <td>0.16</td>\n",
              "      <td>0.01</td>\n",
              "      <td>0.17</td>\n",
              "    </tr>\n",
              "  </tbody>\n",
              "</table>\n",
              "<p>15475 rows × 10 columns</p>\n",
              "</div>\n",
              "      <button class=\"colab-df-convert\" onclick=\"convertToInteractive('df-505f29af-557d-40d6-9094-030d4c8cfaa4')\"\n",
              "              title=\"Convert this dataframe to an interactive table.\"\n",
              "              style=\"display:none;\">\n",
              "        \n",
              "  <svg xmlns=\"http://www.w3.org/2000/svg\" height=\"24px\"viewBox=\"0 0 24 24\"\n",
              "       width=\"24px\">\n",
              "    <path d=\"M0 0h24v24H0V0z\" fill=\"none\"/>\n",
              "    <path d=\"M18.56 5.44l.94 2.06.94-2.06 2.06-.94-2.06-.94-.94-2.06-.94 2.06-2.06.94zm-11 1L8.5 8.5l.94-2.06 2.06-.94-2.06-.94L8.5 2.5l-.94 2.06-2.06.94zm10 10l.94 2.06.94-2.06 2.06-.94-2.06-.94-.94-2.06-.94 2.06-2.06.94z\"/><path d=\"M17.41 7.96l-1.37-1.37c-.4-.4-.92-.59-1.43-.59-.52 0-1.04.2-1.43.59L10.3 9.45l-7.72 7.72c-.78.78-.78 2.05 0 2.83L4 21.41c.39.39.9.59 1.41.59.51 0 1.02-.2 1.41-.59l7.78-7.78 2.81-2.81c.8-.78.8-2.07 0-2.86zM5.41 20L4 18.59l7.72-7.72 1.47 1.35L5.41 20z\"/>\n",
              "  </svg>\n",
              "      </button>\n",
              "      \n",
              "  <style>\n",
              "    .colab-df-container {\n",
              "      display:flex;\n",
              "      flex-wrap:wrap;\n",
              "      gap: 12px;\n",
              "    }\n",
              "\n",
              "    .colab-df-convert {\n",
              "      background-color: #E8F0FE;\n",
              "      border: none;\n",
              "      border-radius: 50%;\n",
              "      cursor: pointer;\n",
              "      display: none;\n",
              "      fill: #1967D2;\n",
              "      height: 32px;\n",
              "      padding: 0 0 0 0;\n",
              "      width: 32px;\n",
              "    }\n",
              "\n",
              "    .colab-df-convert:hover {\n",
              "      background-color: #E2EBFA;\n",
              "      box-shadow: 0px 1px 2px rgba(60, 64, 67, 0.3), 0px 1px 3px 1px rgba(60, 64, 67, 0.15);\n",
              "      fill: #174EA6;\n",
              "    }\n",
              "\n",
              "    [theme=dark] .colab-df-convert {\n",
              "      background-color: #3B4455;\n",
              "      fill: #D2E3FC;\n",
              "    }\n",
              "\n",
              "    [theme=dark] .colab-df-convert:hover {\n",
              "      background-color: #434B5C;\n",
              "      box-shadow: 0px 1px 3px 1px rgba(0, 0, 0, 0.15);\n",
              "      filter: drop-shadow(0px 1px 2px rgba(0, 0, 0, 0.3));\n",
              "      fill: #FFFFFF;\n",
              "    }\n",
              "  </style>\n",
              "\n",
              "      <script>\n",
              "        const buttonEl =\n",
              "          document.querySelector('#df-505f29af-557d-40d6-9094-030d4c8cfaa4 button.colab-df-convert');\n",
              "        buttonEl.style.display =\n",
              "          google.colab.kernel.accessAllowed ? 'block' : 'none';\n",
              "\n",
              "        async function convertToInteractive(key) {\n",
              "          const element = document.querySelector('#df-505f29af-557d-40d6-9094-030d4c8cfaa4');\n",
              "          const dataTable =\n",
              "            await google.colab.kernel.invokeFunction('convertToInteractive',\n",
              "                                                     [key], {});\n",
              "          if (!dataTable) return;\n",
              "\n",
              "          const docLinkHtml = 'Like what you see? Visit the ' +\n",
              "            '<a target=\"_blank\" href=https://colab.research.google.com/notebooks/data_table.ipynb>data table notebook</a>'\n",
              "            + ' to learn more about interactive tables.';\n",
              "          element.innerHTML = '';\n",
              "          dataTable['output_type'] = 'display_data';\n",
              "          await google.colab.output.renderOutput(dataTable, element);\n",
              "          const docLink = document.createElement('div');\n",
              "          docLink.innerHTML = docLinkHtml;\n",
              "          element.appendChild(docLink);\n",
              "        }\n",
              "      </script>\n",
              "    </div>\n",
              "  </div>\n",
              "  "
            ]
          },
          "metadata": {},
          "execution_count": 86
        }
      ]
    }
  ]
}